{
 "cells": [
  {
   "cell_type": "code",
   "execution_count": 32,
   "id": "e0db2d54",
   "metadata": {},
   "outputs": [],
   "source": [
    "#######################################################\n",
    "#######################################################\n",
    "############    COPYRIGHT - DATA SOCIETY   ############\n",
    "#######################################################\n",
    "#######################################################\n",
    "\n",
    "## INTERMEDIATEPYTHON/CONTROLFLOW/INTERMEDIATEPYTHON CONTROLFLOW 1 ##\n",
    "\n",
    "## NOTE: To run individual pieces of code, select the line of code and\n",
    "##       press ctrl + enter for PCs or command + enter for Macs\n",
    "\n",
    "\n"
   ]
  },
  {
   "cell_type": "code",
   "execution_count": 3,
   "id": "dcc3b430",
   "metadata": {},
   "outputs": [
    {
     "name": "stdout",
     "output_type": "stream",
     "text": [
      "hi\n"
     ]
    }
   ],
   "source": [
    "print(\"hi\")"
   ]
  },
  {
   "cell_type": "code",
   "execution_count": 4,
   "id": "c456fdc4",
   "metadata": {},
   "outputs": [
    {
     "name": "stdout",
     "output_type": "stream",
     "text": [
      "Good, we are sane!\n"
     ]
    }
   ],
   "source": [
    "#=================================================-\n",
    "#### Slide 14: Conditional statements (cont'd)  ####\n",
    "\n",
    "if 2 + 2 == 4:\n",
    "    print('Good, we are sane!')\n",
    "else:\n",
    "    print('We are living in 1984!')\n",
    "\n",
    "\n"
   ]
  },
  {
   "cell_type": "code",
   "execution_count": 5,
   "id": "65a37367",
   "metadata": {},
   "outputs": [
    {
     "name": "stdout",
     "output_type": "stream",
     "text": [
      "True\n",
      "False\n"
     ]
    }
   ],
   "source": [
    "#=================================================-\n",
    "#### Slide 16: Recap: Combining Booleans  ####\n",
    "\n",
    "# Check if 2 conditions are true \n",
    "# for the expression to return `True`!\n",
    "x = 8\n",
    "print(x > 5 and x < 10)\n",
    "# Every single condition much be true for this expression to return `True`!\n",
    "print(x > 5 and x > 1 and abs(x) == 7 and x < 10)\n",
    "\n",
    "\n",
    "\n"
   ]
  },
  {
   "cell_type": "code",
   "execution_count": 6,
   "id": "2a1329f0",
   "metadata": {},
   "outputs": [
    {
     "name": "stdout",
     "output_type": "stream",
     "text": [
      "True\n",
      "False\n",
      "False\n"
     ]
    }
   ],
   "source": [
    "#=================================================-\n",
    "#### Slide 17: Condition types  ####\n",
    "\n",
    "condition = 2 + 2 == 4\n",
    "print(condition)\n",
    "\n",
    "another_condition = \"this string\" == \"that string\"\n",
    "print(another_condition)\n",
    "yet_another_condition = 5 + 10 > 10 + 5\n",
    "print(yet_another_condition)\n",
    "\n",
    "\n"
   ]
  },
  {
   "cell_type": "code",
   "execution_count": 7,
   "id": "5c2e1a89",
   "metadata": {},
   "outputs": [
    {
     "name": "stdout",
     "output_type": "stream",
     "text": [
      "False\n",
      "True\n",
      "True\n"
     ]
    }
   ],
   "source": [
    "#=================================================-\n",
    "#### Slide 18: Condition types (cont'd)  ####\n",
    "\n",
    "compound_condition1 = (5 + 10 > 10 + 5) and (\"this string\" == \"this string\")\n",
    "print(compound_condition1)\n",
    "compound_condition2 = (5 + 10 >= 10 + 5) and (\"this string\" == \"this string\")\n",
    "print(compound_condition2)\n",
    "# Here, it's helpful to look at each condition individually.\n",
    "# If one of them is true, then the whole statement is true.\n",
    "compound_condition3 = (compound_condition1 and compound_condition2) or (100/2 > 100 % 2)\n",
    "print(compound_condition3)\n",
    "\n",
    "\n"
   ]
  },
  {
   "cell_type": "code",
   "execution_count": 8,
   "id": "af5c15fb",
   "metadata": {},
   "outputs": [
    {
     "name": "stdout",
     "output_type": "stream",
     "text": [
      "Compound condition 1 is false, do something else!\n",
      "Compound condition 1 is false, do something else!\n"
     ]
    }
   ],
   "source": [
    "#=================================================-\n",
    "#### Slide 19: Putting it all together  ####\n",
    "\n",
    "if (5 + 10 > 10 + 5) and (\"this string\" == \"this string\"):\n",
    "    print('Compound condition 1 is true, do something!')\n",
    "else:\n",
    "    print('Compound condition 1 is false, do something else!')\n",
    "compound_condition1 = (5 + 10 > 10 + 5) and (\"this string\" == \"this string\")\n",
    "\n",
    "if compound_condition1:\n",
    "    print('Compound condition 1 is true, do something!')\n",
    "else:\n",
    "    print('Compound condition 1 is false, do something else!')\n",
    "\n",
    "\n"
   ]
  },
  {
   "cell_type": "code",
   "execution_count": 9,
   "id": "f41d1723",
   "metadata": {},
   "outputs": [
    {
     "name": "stdout",
     "output_type": "stream",
     "text": [
      "Ok, I guess I have to do something after all!\n"
     ]
    }
   ],
   "source": [
    "#=================================================-\n",
    "#### Slide 20: Special cases of conditional blocks  ####\n",
    "\n",
    "if compound_condition2:\n",
    "    print(\"Ok, I guess I have to do something after all!\")\n",
    "if yet_another_condition:\n",
    "    print(\"This means the `compound_condition3` is true, otherwise you will get nothing!\")\n",
    "\n",
    "\n"
   ]
  },
  {
   "cell_type": "code",
   "execution_count": 10,
   "id": "42fb633c",
   "metadata": {},
   "outputs": [
    {
     "name": "stdout",
     "output_type": "stream",
     "text": [
      "A little pricey but maybe worth it...\n"
     ]
    }
   ],
   "source": [
    "#=================================================-\n",
    "#### Slide 21: Special cases of conditional blocks (cont'd)  ####\n",
    "\n",
    "price = 37000\n",
    "\n",
    "if price > 40000:\n",
    "    print(\"That's too expensive!\") \n",
    "elif price > 34000:\n",
    "    print('A little pricey but maybe worth it...')\n",
    "elif price > 26000: \n",
    "    print(\"This seems like a fair price for the quality\")\n",
    "elif price > 22000:\n",
    "    print(\"What a good deal! I'll get it\")\n",
    "else:\n",
    "    print(\"Hmmm this is pretty cheap, maybe there's a problem with it.\")\n",
    "\n",
    "\n"
   ]
  },
  {
   "cell_type": "code",
   "execution_count": 11,
   "id": "00e63bb4",
   "metadata": {},
   "outputs": [
    {
     "name": "stdout",
     "output_type": "stream",
     "text": [
      "You still got to the nested statement!\n"
     ]
    }
   ],
   "source": [
    "#=================================================-\n",
    "#### Slide 22: Special cases of conditional blocks (cont'd)  ####\n",
    "\n",
    "if condition:\n",
    "    if another_condition:\n",
    "        print(\"You got to a nested statement!\")\n",
    "    else:\n",
    "        print(\"You still got to the nested statement!\")\n",
    "else:\n",
    "    print(\"No luck printing a nested statement!\")\n",
    "\n",
    "\n"
   ]
  },
  {
   "cell_type": "code",
   "execution_count": 12,
   "id": "baf5dcfc",
   "metadata": {},
   "outputs": [
    {
     "name": "stdout",
     "output_type": "stream",
     "text": [
      "Take the car and go celebrate, you can afford it!\n",
      "Current account balance: 8000\n"
     ]
    }
   ],
   "source": [
    "#=================================================-\n",
    "#### Slide 23: Actions within conditional blocks  ####\n",
    "\n",
    "price = 37000\n",
    "account_balance = 45000\n",
    "\n",
    "if price > 38000:\n",
    "    action = \"Leave the dealership immediately, this is a rip off!\"\n",
    "    account_balance = account_balance - price\n",
    "elif price > 22000 and price <= 38000 :\n",
    "    action = \"Take the car and go celebrate, you can afford it!\"\n",
    "    account_balance = account_balance - price\n",
    "else:\n",
    "    action = \"Leave the dealership immediately, this is a scam!\"\n",
    "    account_balance = account_balance - price\n",
    "    \n",
    "print(action)\n",
    "print(\"Current account balance:\", account_balance)\n",
    "\n",
    "\n"
   ]
  },
  {
   "cell_type": "code",
   "execution_count": 13,
   "id": "f342925e",
   "metadata": {},
   "outputs": [
    {
     "name": "stdout",
     "output_type": "stream",
     "text": [
      "Leave the dealership immediately, this is a rip off!\n",
      "Current account balance: 4000\n"
     ]
    }
   ],
   "source": [
    "#=================================================-\n",
    "#### Slide 24: Actions within conditional blocks (cont'd)  ####\n",
    "\n",
    "price = 41000\n",
    "account_balance = 45000\n",
    "\n",
    "if price > 38000:\n",
    "    action = \"Leave the dealership immediately, this is a rip off!\"\n",
    "    account_balance = account_balance - price\n",
    "elif price > 22000 and price <= 38000 :\n",
    "    action = \"Take the car and go celebrate, you can afford it!\"\n",
    "    account_balance = account_balance - price\n",
    "else:\n",
    "    action = \"Leave the dealership immediately, this is a scam!\"\n",
    "    account_balance = account_balance - price\n",
    "    \n",
    "print(action)\n",
    "print(\"Current account balance:\", account_balance)\n",
    "\n",
    "\n",
    "\n",
    "#######################################################\n",
    "####  CONGRATULATIONS ON COMPLETING THIS MODULE!   ####\n",
    "#######################################################\n"
   ]
  },
  {
   "cell_type": "code",
   "execution_count": 14,
   "id": "73a09cff",
   "metadata": {},
   "outputs": [],
   "source": [
    "#######################################################\n",
    "#######################################################\n",
    "############    COPYRIGHT - DATA SOCIETY   ############\n",
    "#######################################################\n",
    "#######################################################\n",
    "\n",
    "## INTERMEDIATEPYTHON/CONTROLFLOW/INTERMEDIATEPYTHON CONTROLFLOW 2 ##\n",
    "\n",
    "## NOTE: To run individual pieces of code, select the line of code and\n",
    "##       press ctrl + enter for PCs or command + enter for Macs\n",
    "\n",
    "\n"
   ]
  },
  {
   "cell_type": "code",
   "execution_count": 15,
   "id": "d8433ea5",
   "metadata": {},
   "outputs": [
    {
     "name": "stdout",
     "output_type": "stream",
     "text": [
      "Invite Christian Bale!\n",
      "Invite Bradley Cooper!\n",
      "Invite Willem Dafoe!\n",
      "Invite Rami Malek!\n",
      "Invite Viggo Mortensen!\n",
      "Invite Yalitza Aparicio!\n",
      "Invite Glenn Close!\n",
      "Invite Olivia Colman!\n",
      "Invite Lady Gaga!\n",
      "Invite Melissa McCarthy!\n"
     ]
    }
   ],
   "source": [
    "#=================================================-\n",
    "#### Slide 6: Sample for loop - party invitations  ####\n",
    "\n",
    "contact_list = ['Christian Bale', 'Bradley Cooper', 'Willem Dafoe', 'Rami Malek', 'Viggo Mortensen', 'Yalitza Aparicio', 'Glenn Close', 'Olivia Colman', 'Lady Gaga', 'Melissa McCarthy']\n",
    "for name in contact_list:\n",
    "    print('Invite ' + name + '!') \n",
    "\n",
    "\n"
   ]
  },
  {
   "cell_type": "code",
   "execution_count": 16,
   "id": "416b5316",
   "metadata": {},
   "outputs": [
    {
     "name": "stdout",
     "output_type": "stream",
     "text": [
      "range(0, 10)\n",
      "0\n",
      "1\n",
      "2\n",
      "3\n",
      "4\n",
      "5\n",
      "6\n",
      "7\n",
      "8\n",
      "9\n"
     ]
    }
   ],
   "source": [
    "#=================================================-\n",
    "#### Slide 9: Making a sequence of numbers in Python (cont'd)  ####\n",
    "\n",
    "sequence = range(10)\n",
    "print(sequence)\n",
    "\n",
    "for number in sequence:\n",
    "    print(number)\n",
    "\n",
    "\n"
   ]
  },
  {
   "cell_type": "code",
   "execution_count": 17,
   "id": "2920e155",
   "metadata": {},
   "outputs": [
    {
     "name": "stdout",
     "output_type": "stream",
     "text": [
      "range(1, 11)\n",
      "1\n",
      "2\n",
      "3\n",
      "4\n",
      "5\n",
      "6\n",
      "7\n",
      "8\n",
      "9\n",
      "10\n"
     ]
    }
   ],
   "source": [
    "#=================================================-\n",
    "#### Slide 10: Making a sequence of numbers in Python (cont'd)  ####\n",
    "\n",
    "sequence = range(1, 11)\n",
    "print(sequence)\n",
    "\n",
    "for number in sequence:\n",
    "    print(number)\n",
    "\n",
    "\n"
   ]
  },
  {
   "cell_type": "code",
   "execution_count": 18,
   "id": "eb59f639",
   "metadata": {},
   "outputs": [
    {
     "name": "stdout",
     "output_type": "stream",
     "text": [
      "range(2, 21, 2)\n",
      "2\n",
      "4\n",
      "6\n",
      "8\n",
      "10\n",
      "12\n",
      "14\n",
      "16\n",
      "18\n",
      "20\n"
     ]
    }
   ],
   "source": [
    "#=================================================-\n",
    "#### Slide 11: Making a sequence of numbers in Python (cont'd)  ####\n",
    "\n",
    "sequence = range(2, 21, 2)\n",
    "print(sequence)\n",
    "\n",
    "for number in sequence:\n",
    "    print(number)\n",
    "\n",
    "\n"
   ]
  },
  {
   "cell_type": "code",
   "execution_count": 19,
   "id": "b586ecce",
   "metadata": {},
   "outputs": [
    {
     "name": "stdout",
     "output_type": "stream",
     "text": [
      "10\n",
      "Invite Christian Bale!\n",
      "Invite Bradley Cooper!\n",
      "Invite Willem Dafoe!\n",
      "Invite Rami Malek!\n",
      "Invite Viggo Mortensen!\n",
      "Invite Yalitza Aparicio!\n",
      "Invite Glenn Close!\n",
      "Invite Olivia Colman!\n",
      "Invite Lady Gaga!\n",
      "Invite Melissa McCarthy!\n"
     ]
    }
   ],
   "source": [
    "#=================================================-\n",
    "#### Slide 12: For loops with counters in Python  ####\n",
    "\n",
    "print(len(contact_list))\n",
    "\n",
    "# Save length of the list as number of contacts\n",
    "# for convenience.\n",
    "num_contacts = len(contact_list)\n",
    "\n",
    "# Go through indices in a range between 0 and 9.\n",
    "for i in range(num_contacts):\n",
    "    # Invite a person in the list at index i.\n",
    "    print('Invite ' + contact_list[i] + '!') \n",
    "\n",
    "\n"
   ]
  },
  {
   "cell_type": "code",
   "execution_count": 20,
   "id": "db844311",
   "metadata": {},
   "outputs": [],
   "source": [
    "#=================================================-\n",
    "#### Slide 13: Using a for loop to build an object  ####\n",
    "\n",
    "squares = []\n",
    "\n",
    "\n"
   ]
  },
  {
   "cell_type": "code",
   "execution_count": 21,
   "id": "5829968d",
   "metadata": {},
   "outputs": [
    {
     "name": "stdout",
     "output_type": "stream",
     "text": [
      "Square of 5 is 25\n",
      "Square of 6 is 36\n",
      "Square of 7 is 49\n",
      "Square of 8 is 64\n",
      "Square of 9 is 81\n",
      "Square of 10 is 100\n",
      "Square of 11 is 121\n",
      "Square of 12 is 144\n",
      "Square of 13 is 169\n",
      "Square of 14 is 196\n",
      "Square of 15 is 225\n",
      "[25, 36, 49, 64, 81, 100, 121, 144, 169, 196, 225]\n"
     ]
    }
   ],
   "source": [
    "#=================================================-\n",
    "#### Slide 14: Using a for loop to build an object (cont'd)  ####\n",
    "\n",
    "for x in range(5, 16):\n",
    "    x_squared = x**2\n",
    "    squares.append(x_squared)\n",
    "    print(\"Square of\", x, \"is\", x_squared)\n",
    "    \n",
    "print(squares)\n",
    "\n",
    "\n"
   ]
  },
  {
   "cell_type": "code",
   "execution_count": 22,
   "id": "2ec8b9fd",
   "metadata": {},
   "outputs": [
    {
     "name": "stdout",
     "output_type": "stream",
     "text": [
      "[25, 36, 49, 64, 81, 100, 121, 144, 169, 196, 225]\n"
     ]
    }
   ],
   "source": [
    "#=================================================-\n",
    "#### Slide 16: List comprehension  ####\n",
    "\n",
    "squares = [x**2 for x in range(5, 16)]\n",
    "print(squares)\n",
    "\n",
    "\n"
   ]
  },
  {
   "cell_type": "code",
   "execution_count": 23,
   "id": "ebe0a9d9",
   "metadata": {},
   "outputs": [
    {
     "name": "stdout",
     "output_type": "stream",
     "text": [
      "The price for bus is 1.75\n",
      "The price for metro is 3.5\n",
      "The price for uber is 8.75\n",
      "The price for lyft is 7.5\n"
     ]
    }
   ],
   "source": [
    "#=================================================-\n",
    "#### Slide 17: Looping over a dictionary  ####\n",
    "\n",
    "prices = {'bus': 1.75, 'metro': 3.50, 'uber': 8.75, 'lyft': 7.50}\n",
    "\n",
    "for key, value in prices.items():\n",
    "    print('The price for', key, 'is', value)\n",
    "\n",
    "\n",
    "#######################################################\n",
    "####  CONGRATULATIONS ON COMPLETING THIS MODULE!   ####\n",
    "#######################################################\n"
   ]
  },
  {
   "cell_type": "code",
   "execution_count": 24,
   "id": "e75f3d00",
   "metadata": {},
   "outputs": [],
   "source": [
    "#######################################################\n",
    "#######################################################\n",
    "############    COPYRIGHT - DATA SOCIETY   ############\n",
    "#######################################################\n",
    "#######################################################\n",
    "\n",
    "## INTERMEDIATEPYTHON/CONTROLFLOW/INTERMEDIATEPYTHON CONTROLFLOW 3 ##\n",
    "\n",
    "## NOTE: To run individual pieces of code, select the line of code and\n",
    "##       press ctrl + enter for PCs or command + enter for Macs\n",
    "\n",
    "\n"
   ]
  },
  {
   "cell_type": "code",
   "execution_count": 25,
   "id": "c924964d",
   "metadata": {},
   "outputs": [],
   "source": [
    "#=================================================-\n",
    "#### Slide 2: Module completion checklist  ####\n",
    "\n",
    "contact_list = ['Christian Bale', 'Bradley Cooper', 'Willem Dafoe', 'Rami Malek', 'Viggo Mortensen', 'Yalitza Aparicio', 'Glenn Close', 'Olivia Colman', 'Lady Gaga', 'Melissa McCarthy']\n",
    "\n",
    "# Save length of the list as number of contacts\n",
    "# for convenience.\n",
    "num_contacts = len(contact_list)\n",
    "\n",
    "\n"
   ]
  },
  {
   "cell_type": "code",
   "execution_count": 26,
   "id": "48e0160a",
   "metadata": {},
   "outputs": [
    {
     "name": "stdout",
     "output_type": "stream",
     "text": [
      "Invite Christian Bale!\n",
      "Invite Bradley Cooper!\n",
      "Invite Willem Dafoe!\n",
      "Invite Rami Malek!\n",
      "Invite Viggo Mortensen!\n",
      "Invite Yalitza Aparicio!\n",
      "Invite Glenn Close!\n",
      "Invite Olivia Colman!\n",
      "Invite Lady Gaga!\n",
      "Invite Melissa McCarthy!\n"
     ]
    }
   ],
   "source": [
    "#=================================================-\n",
    "#### Slide 4: While loops in Python  ####\n",
    "\n",
    "# Set the index to starting point.\n",
    "i = 0\n",
    "\n",
    "# While  the index is less than the \n",
    "# total number of contacts.\n",
    "while i < num_contacts:\n",
    "\n",
    "    print('Invite ' + contact_list[i] + '!') \n",
    "    \n",
    "    # Increase your index to advance \n",
    "    # to the next name on list.\n",
    "    i = i + 1\n",
    "\n",
    "\n"
   ]
  },
  {
   "cell_type": "code",
   "execution_count": 27,
   "id": "ee222a07",
   "metadata": {},
   "outputs": [
    {
     "name": "stdout",
     "output_type": "stream",
     "text": [
      "Python\n",
      "love\n",
      "I\n"
     ]
    }
   ],
   "source": [
    "#=================================================-\n",
    "#### Slide 5: While loops involving a list  ####\n",
    "\n",
    "# Create a list\n",
    "my_list = ['I', 'love', 'Python']\n",
    "# While there's element in the list\n",
    "while my_list:\n",
    "  # Print the last element\n",
    "  # and remove it\n",
    "  print(my_list.pop())\n",
    "\n",
    "\n"
   ]
  },
  {
   "cell_type": "code",
   "execution_count": 28,
   "id": "d7de3702",
   "metadata": {},
   "outputs": [
    {
     "name": "stdout",
     "output_type": "stream",
     "text": [
      "4\n",
      "3\n",
      "Loop ended.\n"
     ]
    }
   ],
   "source": [
    "#=================================================-\n",
    "#### Slide 9: Break and continue statements  ####\n",
    "\n",
    "# break\n",
    "n = 5\n",
    "while n > 0:\n",
    "  n -= 1\n",
    "  if n == 2:\n",
    "    break\n",
    "  print(n)\n",
    "print('Loop ended.')\n",
    "\n",
    "\n"
   ]
  },
  {
   "cell_type": "code",
   "execution_count": 29,
   "id": "3278afe6",
   "metadata": {},
   "outputs": [
    {
     "name": "stdout",
     "output_type": "stream",
     "text": [
      "4\n",
      "3\n",
      "1\n",
      "0\n",
      "Loop ended.\n"
     ]
    }
   ],
   "source": [
    "#=================================================-\n",
    "#### Slide 10: Break and continue statements (cont'd)  ####\n",
    "\n",
    "# continue\n",
    "n = 5\n",
    "while n > 0:\n",
    "    n -= 1\n",
    "    if n == 2:\n",
    "      continue\n",
    "    print(n)\n",
    "print('Loop ended.')\n",
    "\n",
    "\n"
   ]
  },
  {
   "cell_type": "code",
   "execution_count": 30,
   "id": "1f414871",
   "metadata": {},
   "outputs": [
    {
     "name": "stdout",
     "output_type": "stream",
     "text": [
      "0\n",
      "1\n",
      "2\n",
      "3\n",
      "4\n",
      "0\n",
      "1\n",
      "2\n",
      "3\n",
      "4\n"
     ]
    }
   ],
   "source": [
    "#=================================================-\n",
    "#### Slide 14: Convert while loop into for loop (cont'd)  ####\n",
    "\n",
    "# while loop\n",
    "# Initialization:\n",
    "x=0\n",
    "# Condition:\n",
    "while x<5:\n",
    "  print (x)\n",
    "  # Increment:\n",
    "  x=x+1\n",
    "# for loop\n",
    "# Initialization: x=0\n",
    "# Condition: x = [0,1,2,3,4]\n",
    "# Increment: 1\n",
    "for x in range(5):\n",
    "  print (x)\n",
    "\n",
    "\n"
   ]
  },
  {
   "cell_type": "code",
   "execution_count": 31,
   "id": "2c49a174",
   "metadata": {},
   "outputs": [],
   "source": [
    "#=================================================-\n",
    "#### Slide 16: Exercise   ####\n",
    "\n",
    "\n",
    "\n",
    "\n",
    "#######################################################\n",
    "####  CONGRATULATIONS ON COMPLETING THIS MODULE!   ####\n",
    "#######################################################\n"
   ]
  }
 ],
 "metadata": {
  "kernelspec": {
   "display_name": "Python 3 (ipykernel)",
   "language": "python",
   "name": "python3"
  },
  "language": "python",
  "language_info": {
   "codemirror_mode": {
    "name": "ipython",
    "version": 3
   },
   "file_extension": ".py",
   "mimetype": "text/x-python",
   "name": "python",
   "nbconvert_exporter": "python",
   "pygments_lexer": "ipython3",
   "version": "3.10.8"
  }
 },
 "nbformat": 4,
 "nbformat_minor": 5
}
