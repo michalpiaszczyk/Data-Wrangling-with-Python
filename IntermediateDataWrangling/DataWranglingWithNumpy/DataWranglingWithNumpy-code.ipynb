{
 "cells": [
  {
   "cell_type": "code",
   "execution_count": null,
   "id": "55899db4",
   "metadata": {},
   "outputs": [],
   "source": [
    "#######################################################\n",
    "#######################################################\n",
    "############    COPYRIGHT - DATA SOCIETY   ############\n",
    "#######################################################\n",
    "#######################################################\n",
    "\n",
    "## DATAWRANGLINGINPYTHON/DATAWRANGLINGWITHNUMPY/DATAWRANGLINGINPYTHON DATAWRANGLINGWITHNUMPY 1 ##\n",
    "\n",
    "## NOTE: To run individual pieces of code, select the line of code and\n",
    "##       press ctrl + enter for PCs or command + enter for Macs\n",
    "\n",
    "\n"
   ]
  },
  {
   "cell_type": "code",
   "execution_count": 2,
   "id": "90414d77",
   "metadata": {},
   "outputs": [
    {
     "name": "stdout",
     "output_type": "stream",
     "text": [
      "[ 17.  -10.   16.8  11. ]\n",
      "<class 'numpy.ndarray'>\n"
     ]
    }
   ],
   "source": [
    "#=================================================-\n",
    "#### Slide 7: Creating arrays  ####\n",
    "\n",
    "# Import numpy as 'np' sets 'np' as the shortcut/alias.\n",
    "import numpy as np\n",
    "\n",
    "# Create an array from a list. \n",
    "arr = np.array([17, -10, 16.8, 11])\n",
    "print(arr)\n",
    "\n",
    "# Check the type of the object.\n",
    "print(type(arr))\n",
    "\n",
    "\n"
   ]
  },
  {
   "cell_type": "code",
   "execution_count": null,
   "id": "b11ab434",
   "metadata": {},
   "outputs": [],
   "source": [
    "#=================================================-\n",
    "#### Slide 8: Data type in arrays  ####\n",
    "\n",
    "# Check the data type stored in the array.\n",
    "print(arr.dtype)\n",
    "\n",
    "\n"
   ]
  },
  {
   "cell_type": "code",
   "execution_count": null,
   "id": "2297a8cc",
   "metadata": {},
   "outputs": [],
   "source": [
    "#=================================================-\n",
    "#### Slide 9: Using ndarray  ####\n",
    "\n",
    "x = np.array([3, 19, 7, 11])\n",
    "print(x)\n",
    "\n",
    "\n"
   ]
  },
  {
   "cell_type": "code",
   "execution_count": null,
   "id": "c2e0dfa0",
   "metadata": {},
   "outputs": [],
   "source": [
    "print(x.shape)"
   ]
  },
  {
   "cell_type": "code",
   "execution_count": null,
   "id": "6e3150f6",
   "metadata": {},
   "outputs": [],
   "source": [
    "print(x.size)"
   ]
  },
  {
   "cell_type": "code",
   "execution_count": null,
   "id": "747d6562",
   "metadata": {},
   "outputs": [],
   "source": [
    "print(x.ndim)"
   ]
  },
  {
   "cell_type": "code",
   "execution_count": null,
   "id": "21019d5e",
   "metadata": {},
   "outputs": [],
   "source": [
    "print(x.dtype)"
   ]
  },
  {
   "cell_type": "code",
   "execution_count": null,
   "id": "950ab3ac",
   "metadata": {},
   "outputs": [],
   "source": [
    "print(x[0])"
   ]
  },
  {
   "cell_type": "code",
   "execution_count": null,
   "id": "d8b3e7c9",
   "metadata": {},
   "outputs": [],
   "source": [
    "#=================================================-\n",
    "#### Slide 11: Building an array with linspace  ####\n",
    "\n",
    "y = np.linspace(-2, -1, 25)\n",
    "print(y)\n",
    "\n",
    "\n"
   ]
  },
  {
   "cell_type": "code",
   "execution_count": null,
   "id": "f703c0b4",
   "metadata": {},
   "outputs": [],
   "source": [
    "result = np.linspace(1, 5, 10)\n",
    "print(result)"
   ]
  },
  {
   "cell_type": "code",
   "execution_count": null,
   "id": "75a05e1d",
   "metadata": {},
   "outputs": [],
   "source": [
    "print(result.shape)"
   ]
  },
  {
   "cell_type": "code",
   "execution_count": null,
   "id": "d155ec99",
   "metadata": {},
   "outputs": [],
   "source": [
    "#=================================================-\n",
    "#### Slide 12: Alternative ways of accessing functions  ####\n",
    "\n",
    "from numpy import array, linspace\n",
    "x = array([0.01, 0.45, -0.3])\n",
    "y = linspace(0, 1, 50)\n",
    "\n",
    "\n"
   ]
  },
  {
   "cell_type": "code",
   "execution_count": null,
   "id": "1e00ac15",
   "metadata": {},
   "outputs": [],
   "source": [
    "print(y)"
   ]
  },
  {
   "cell_type": "code",
   "execution_count": null,
   "id": "3e8e7223",
   "metadata": {},
   "outputs": [],
   "source": [
    "result = np.logspace(1, 2, 5)\n",
    "print(result)"
   ]
  },
  {
   "cell_type": "code",
   "execution_count": null,
   "id": "2bbb90c4",
   "metadata": {},
   "outputs": [],
   "source": [
    "#=================================================-\n",
    "#### Slide 16: Arrays vs. lists  ####\n",
    "\n",
    "mixed_array = np.array([1, 2, \"apple\", \"XYZ\", 5.5])\n",
    "print(mixed_array)\n",
    "print(type(mixed_array))\n",
    "print(mixed_array.dtype)\n",
    "\n",
    "\n"
   ]
  },
  {
   "cell_type": "code",
   "execution_count": null,
   "id": "7dffe022",
   "metadata": {},
   "outputs": [],
   "source": [
    "#=================================================-\n",
    "#### Slide 17: Arrays vs lists (cont'd)  ####\n",
    "\n",
    "print(mixed_array.dtype)\n",
    "mixed_array = np.array([3, 12, 5.56])\n",
    "print(mixed_array)\n",
    "print(mixed_array.dtype)\n",
    "\n",
    "\n"
   ]
  },
  {
   "cell_type": "code",
   "execution_count": null,
   "id": "2b4d0fc5",
   "metadata": {},
   "outputs": [],
   "source": [
    "#=================================================-\n",
    "#### Slide 19: Arrays from sequences (cont'd)  ####\n",
    "\n",
    "rng = np.arange(0, 51)\n",
    "print(rng)\n",
    "\n",
    "\n"
   ]
  },
  {
   "cell_type": "code",
   "execution_count": 3,
   "id": "45a97831",
   "metadata": {},
   "outputs": [
    {
     "name": "stdout",
     "output_type": "stream",
     "text": [
      "[ 0  2  4  6  8 10 12 14 16 18 20 22]\n",
      "[0.   0.25 0.5  0.75]\n"
     ]
    }
   ],
   "source": [
    "#=================================================-\n",
    "#### Slide 20: Arrays from sequences - using a step size  ####\n",
    "\n",
    "evens = np.arange(0, 23, 2)\n",
    "print(evens)\n",
    "\n",
    "quarters = np.arange(0, 1, .25)  #<- contains 0 to 0.75\n",
    "print(quarters)\n",
    "\n",
    "\n",
    "#######################################################\n",
    "####  CONGRATULATIONS ON COMPLETING THIS MODULE!   ####\n",
    "#######################################################\n"
   ]
  },
  {
   "cell_type": "code",
   "execution_count": null,
   "id": "bd80d369",
   "metadata": {},
   "outputs": [],
   "source": [
    "#######################################################\n",
    "#######################################################\n",
    "############    COPYRIGHT - DATA SOCIETY   ############\n",
    "#######################################################\n",
    "#######################################################\n",
    "\n",
    "## DATAWRANGLINGINPYTHON/DATAWRANGLINGWITHNUMPY/DATAWRANGLINGINPYTHON DATAWRANGLINGWITHNUMPY 2 ##\n",
    "\n",
    "## NOTE: To run individual pieces of code, select the line of code and\n",
    "##       press ctrl + enter for PCs or command + enter for Macs\n",
    "\n",
    "\n"
   ]
  },
  {
   "cell_type": "code",
   "execution_count": 9,
   "id": "edcc07a0",
   "metadata": {},
   "outputs": [
    {
     "name": "stdout",
     "output_type": "stream",
     "text": [
      "[15. 16. 17. 18. 19.]\n",
      "15.0\n",
      "19.0\n"
     ]
    }
   ],
   "source": [
    "#=================================================-\n",
    "#### Slide 2: Helper functions: min and max  ####\n",
    "\n",
    "import numpy as np\n",
    "\n",
    "# Generate 5 numbers between 15 and 19.\n",
    "x = np.linspace(15, 19, 5)\n",
    "print(x)\n",
    "# Find the min of x.\n",
    "y=np.amin(x)\n",
    "print(y)\n",
    "# Find the max of x.\n",
    "z= np.amax(x)\n",
    "print(z)\n",
    "\n"
   ]
  },
  {
   "cell_type": "code",
   "execution_count": 7,
   "id": "35586712",
   "metadata": {},
   "outputs": [
    {
     "name": "stdout",
     "output_type": "stream",
     "text": [
      "6\n"
     ]
    }
   ],
   "source": [
    "arr = np.array([[1, 2, 3], [4, 5, 6]])\n",
    "\n",
    "# Użycie funkcji numpy.amax\n",
    "max_val = np.amax(arr)\n",
    "print(max_val)"
   ]
  },
  {
   "cell_type": "code",
   "execution_count": 10,
   "id": "6b15317c",
   "metadata": {},
   "outputs": [
    {
     "name": "stdout",
     "output_type": "stream",
     "text": [
      "4\n",
      "0\n"
     ]
    }
   ],
   "source": [
    "#=================================================-\n",
    "#### Slide 3: Helper functions: argmin and argmax  ####\n",
    "\n",
    "# Obtain index of max value\n",
    "a= np.argmax(x)\n",
    "print(a)\n",
    "# Obtain index of min value\n",
    "b= np.argmin(x)\n",
    "print(b)\n",
    "\n"
   ]
  },
  {
   "cell_type": "code",
   "execution_count": 7,
   "id": "d1c4f92d",
   "metadata": {},
   "outputs": [
    {
     "name": "stdout",
     "output_type": "stream",
     "text": [
      "85.0\n"
     ]
    }
   ],
   "source": [
    "#=================================================-\n",
    "#### Slide 4: Helper functions: sum  ####\n",
    "\n",
    "# Find the max of x.\n",
    "c = np.sum(x)\n",
    "print(c)\n",
    "\n"
   ]
  },
  {
   "cell_type": "code",
   "execution_count": 9,
   "id": "9d3da540",
   "metadata": {},
   "outputs": [
    {
     "name": "stdout",
     "output_type": "stream",
     "text": [
      "17.0\n",
      "17.0\n"
     ]
    }
   ],
   "source": [
    "#=================================================-\n",
    "#### Slide 5: Helper functions: mean and median  ####\n",
    "\n",
    "# Find the mean of x.\n",
    "d = np.mean(x)\n",
    "print(d)\n",
    "# Find the median of x.\n",
    "e= np.median(x)\n",
    "print(e)\n",
    "\n"
   ]
  },
  {
   "cell_type": "code",
   "execution_count": 10,
   "id": "59d49411",
   "metadata": {},
   "outputs": [
    {
     "name": "stdout",
     "output_type": "stream",
     "text": [
      "[1 1 2 2 2]\n"
     ]
    }
   ],
   "source": [
    "#=================================================-\n",
    "#### Slide 6: Helper functions: digitize  ####\n",
    "\n",
    "# Filter array using digitize\n",
    "bins = np.array([15, 17])\n",
    "f= np.digitize(x,bins)\n",
    "print(f)\n",
    "\n",
    "\n"
   ]
  },
  {
   "cell_type": "code",
   "execution_count": 11,
   "id": "90c7df37",
   "metadata": {},
   "outputs": [
    {
     "name": "stdout",
     "output_type": "stream",
     "text": [
      "[1 1 2 3 4]\n"
     ]
    }
   ],
   "source": [
    "x = np.array([0.5, 1.5, 2.5, 5.5, 15.5])\n",
    "\n",
    "# Granice przedziałów\n",
    "bins = np.array([0, 2, 4, 10])\n",
    "\n",
    "# Przypisanie indeksów przedziałów\n",
    "result = np.digitize(x, bins)\n",
    "\n",
    "print(result)"
   ]
  },
  {
   "cell_type": "code",
   "execution_count": 12,
   "id": "1704c807",
   "metadata": {},
   "outputs": [
    {
     "name": "stdout",
     "output_type": "stream",
     "text": [
      "[[ 0.5  1.5  2.5  5.5 15.5]]\n",
      "[[ 0.5]\n",
      " [ 1.5]\n",
      " [ 2.5]\n",
      " [ 5.5]\n",
      " [15.5]]\n"
     ]
    }
   ],
   "source": [
    "#=================================================-\n",
    "#### Slide 7: Helper functions: expand and squeeze  ####\n",
    "\n",
    "# Expand dimensions of the array horizontally\n",
    "g= np.expand_dims(x,axis=0)\n",
    "print(g)\n",
    "# Expand dimensions of the array vertically\n",
    "h= np.expand_dims(x,axis=1)\n",
    "print(h)\n",
    "\n",
    "\n"
   ]
  },
  {
   "cell_type": "code",
   "execution_count": 3,
   "id": "e0b280c9",
   "metadata": {},
   "outputs": [
    {
     "data": {
      "text/plain": [
       "array([10, 25, 28, 30])"
      ]
     },
     "execution_count": 3,
     "metadata": {},
     "output_type": "execute_result"
    }
   ],
   "source": [
    "#=================================================-\n",
    "#### Slide 8: Helper functions: expand and squeeze (cont'd)  ####\n",
    "\n",
    "# Define an array in the format of lists\n",
    "y = np.array([[10],[25],[28],[30]])\n",
    "# Reduce dimensions of the array\n",
    "np.squeeze(y)\n",
    "\n",
    "\n"
   ]
  },
  {
   "cell_type": "code",
   "execution_count": 4,
   "id": "4e5af4b3",
   "metadata": {},
   "outputs": [
    {
     "name": "stdout",
     "output_type": "stream",
     "text": [
      "[0, 2, 4, 6, 8, 10, 12, 14, 16, 18, 20, 22]\n"
     ]
    }
   ],
   "source": [
    "#=================================================-\n",
    "#### Slide 9: Convert an array to a list  ####\n",
    "\n",
    "evens = np.arange(0, 23, 2)\n",
    "print(list(evens))\n",
    "\n",
    "\n"
   ]
  },
  {
   "cell_type": "code",
   "execution_count": 5,
   "id": "3e4a1442",
   "metadata": {},
   "outputs": [
    {
     "name": "stdout",
     "output_type": "stream",
     "text": [
      "[3 3 3 3]\n",
      "[-1 -1 -1 -1]\n",
      "[2 2 2 2]\n",
      "[0.5 0.5 0.5 0.5]\n"
     ]
    }
   ],
   "source": [
    "#=================================================-\n",
    "#### Slide 10: Operations on arrays  ####\n",
    "\n",
    "# Save two arrays as variables.\n",
    "a = np.array([1,1,1,1])\n",
    "b = np.array([2,2,2,2])\n",
    "\n",
    "# Addition of arrays.\n",
    "print(a + b)\n",
    "\n",
    "# Subtraction of arrays.\n",
    "print(a - b)\n",
    "# Multiplication of arrays.\n",
    "print(a * b)\n",
    "# Division of arrays.\n",
    "print(a / b)\n",
    "\n",
    "\n"
   ]
  },
  {
   "cell_type": "code",
   "execution_count": null,
   "id": "5b1cd6d3",
   "metadata": {},
   "outputs": [],
   "source": [
    "#=================================================-\n",
    "#### Slide 12: Set operations  ####\n",
    "\n",
    "# Retrieving common elements present in the arrays.\n",
    "np.intersect1d(a, b, return_indices=True)\n",
    "\n",
    "# Retrieving elements present in both the arrays.\n",
    "np.union1d(a, b)\n",
    "# Retrives the elements that are present only in the first array.\n",
    "np.setdiff1d(a, b)\n",
    "\n",
    "\n"
   ]
  },
  {
   "cell_type": "code",
   "execution_count": null,
   "id": "65a2058e",
   "metadata": {},
   "outputs": [],
   "source": [
    "#=================================================-\n",
    "#### Slide 13: Stacking arrays  ####\n",
    "\n",
    "# Stacking arrays horizontally.\n",
    "np.hstack((a,b))\n",
    "\n",
    "# Stacking arrays vertically.\n",
    "np.vstack((a,b))\n",
    "\n",
    "\n"
   ]
  },
  {
   "cell_type": "code",
   "execution_count": null,
   "id": "41628b96",
   "metadata": {},
   "outputs": [],
   "source": [
    "#=================================================-\n",
    "#### Slide 15: Mathematical functions on arrays  ####\n",
    "\n",
    "print(np.abs(-3))\n",
    "print(np.abs([-2, -7, 1]))\n",
    "nums = np.arange(20, 30, .5)\n",
    "print(len(nums))\n",
    "\n",
    "\n"
   ]
  },
  {
   "cell_type": "code",
   "execution_count": null,
   "id": "af906752",
   "metadata": {},
   "outputs": [],
   "source": [
    "#=================================================-\n",
    "#### Slide 16: User-defined functions on arrays  ####\n",
    "\n",
    "# Define a function to multiply every element in array with 3 and add 1\n",
    "def some_calculation(arr):\n",
    "    return 3*arr+1\n",
    "    \n",
    "print(some_calculation(nums))\n",
    "\n",
    "\n",
    "#######################################################\n",
    "####  CONGRATULATIONS ON COMPLETING THIS MODULE!   ####\n",
    "#######################################################\n"
   ]
  },
  {
   "cell_type": "code",
   "execution_count": null,
   "id": "e03c4e03",
   "metadata": {},
   "outputs": [],
   "source": [
    "#######################################################\n",
    "#######################################################\n",
    "############    COPYRIGHT - DATA SOCIETY   ############\n",
    "#######################################################\n",
    "#######################################################\n",
    "\n",
    "## DATAWRANGLINGINPYTHON/DATAWRANGLINGWITHNUMPY/DATAWRANGLINGINPYTHON DATAWRANGLINGWITHNUMPY 3 ##\n",
    "\n",
    "## NOTE: To run individual pieces of code, select the line of code and\n",
    "##       press ctrl + enter for PCs or command + enter for Macs\n",
    "\n",
    "\n"
   ]
  },
  {
   "cell_type": "code",
   "execution_count": 2,
   "id": "b72e849a",
   "metadata": {},
   "outputs": [],
   "source": [
    "#=================================================-\n",
    "#### Slide 2: Recap: arrays  ####\n",
    "\n",
    "# Import numpy as 'np' sets 'np' as the shortcut/alias.\n",
    "import numpy as np\n",
    "\n",
    "\n"
   ]
  },
  {
   "cell_type": "code",
   "execution_count": null,
   "id": "5a5a82e3",
   "metadata": {},
   "outputs": [],
   "source": [
    "#=================================================-\n",
    "#### Slide 3: Accessing array values  ####\n",
    "\n",
    "nums = np.arange(20, 30, .5)\n",
    "\n",
    "print(nums[1])  #<- get the second element\n",
    "\n",
    "print(nums[0:3]) #<- get the first three elements\n",
    "\n",
    "\n"
   ]
  },
  {
   "cell_type": "code",
   "execution_count": null,
   "id": "a62adc97",
   "metadata": {},
   "outputs": [],
   "source": [
    "#=================================================-\n",
    "#### Slide 4: Logical filtering  ####\n",
    "\n",
    "print(nums)\n",
    "\n",
    "large_nums = nums[nums > 26]\n",
    "print(large_nums)\n",
    "\n",
    "\n"
   ]
  },
  {
   "cell_type": "code",
   "execution_count": 1,
   "id": "18c5ac51",
   "metadata": {},
   "outputs": [
    {
     "ename": "NameError",
     "evalue": "name 'nums' is not defined",
     "output_type": "error",
     "traceback": [
      "\u001b[0;31m---------------------------------------------------------------------------\u001b[0m",
      "\u001b[0;31mNameError\u001b[0m                                 Traceback (most recent call last)",
      "Cell \u001b[0;32mIn[1], line 4\u001b[0m\n\u001b[1;32m      1\u001b[0m \u001b[38;5;66;03m#=================================================-\u001b[39;00m\n\u001b[1;32m      2\u001b[0m \u001b[38;5;66;03m#### Slide 5: Logical filtering (cont'd)  ####\u001b[39;00m\n\u001b[0;32m----> 4\u001b[0m \u001b[38;5;28mprint\u001b[39m(\u001b[43mnums\u001b[49m)\n\u001b[1;32m      6\u001b[0m large_nums \u001b[38;5;241m=\u001b[39m nums[nums \u001b[38;5;241m>\u001b[39m \u001b[38;5;241m26\u001b[39m]\n\u001b[1;32m      7\u001b[0m \u001b[38;5;28mprint\u001b[39m(large_nums)\n",
      "\u001b[0;31mNameError\u001b[0m: name 'nums' is not defined"
     ]
    }
   ],
   "source": [
    "#=================================================-\n",
    "#### Slide 5: Logical filtering (cont'd)  ####\n",
    "\n",
    "print(nums)\n",
    "\n",
    "large_nums = nums[nums > 26]\n",
    "print(large_nums)\n",
    "\n",
    "\n"
   ]
  },
  {
   "cell_type": "code",
   "execution_count": null,
   "id": "2621d959",
   "metadata": {},
   "outputs": [],
   "source": [
    "#=================================================-\n",
    "#### Slide 6: Two-dimensional arrays  ####\n",
    "\n",
    "mat = np.array([\n",
    "        [8, 2, 6, 8],\n",
    "        [4, 5, 7, 2],\n",
    "        [3, 9, 7, 1]\n",
    "       ])\n",
    "print(mat)\n",
    "\n",
    "\n"
   ]
  },
  {
   "cell_type": "code",
   "execution_count": null,
   "id": "7a19af46",
   "metadata": {},
   "outputs": [],
   "source": [
    "#=================================================-\n",
    "#### Slide 8: Two-dimensional arrays - shape (cont'd)  ####\n",
    "\n",
    "print(mat.shape) #<- 3 rows and 4 columns -- returned as a tuple\n",
    "nrows, ncols = mat.shape\n",
    "print(nrows)\n",
    "\n",
    "\n"
   ]
  },
  {
   "cell_type": "code",
   "execution_count": null,
   "id": "80c02c35",
   "metadata": {},
   "outputs": [],
   "source": [
    "#=================================================-\n",
    "#### Slide 9: Two-dimensional arrays - extracting elements  ####\n",
    "\n",
    "print(mat[1, 3]) #<- 2nd row 4th column - remember that indexing starts at 0!\n",
    "\n",
    "\n"
   ]
  },
  {
   "cell_type": "code",
   "execution_count": null,
   "id": "792befda",
   "metadata": {},
   "outputs": [],
   "source": [
    "#=================================================-\n",
    "#### Slide 10: Two-dimensional arrays - rows  ####\n",
    "\n",
    "print(mat[0, :]) #<- first row\n",
    "print(mat[0, 0:2]) #<- first row and just first 2 columns\n",
    "\n",
    "\n"
   ]
  },
  {
   "cell_type": "code",
   "execution_count": null,
   "id": "b751125b",
   "metadata": {},
   "outputs": [],
   "source": [
    "#=================================================-\n",
    "#### Slide 11: Two-dimensional arrays - columns  ####\n",
    "\n",
    "print(mat[:, 2]) #<- 3rd column\n",
    "print(mat[1:3, 2]) #<- 3rd column but skipping over the first row\n",
    "print(mat[1:3, 2:3]) #<- same as previous, but maintains the vertical structure of the column\n",
    "\n",
    "\n"
   ]
  },
  {
   "cell_type": "code",
   "execution_count": null,
   "id": "73135e22",
   "metadata": {},
   "outputs": [],
   "source": [
    "#=================================================-\n",
    "#### Slide 13: Reshaping arrays  ####\n",
    "\n",
    "arr = np.arange(1,13)\n",
    "print(arr)\n",
    "print(arr.reshape(3, 4))\n",
    "\n",
    "\n"
   ]
  },
  {
   "cell_type": "code",
   "execution_count": null,
   "id": "a37e7c9e",
   "metadata": {},
   "outputs": [],
   "source": [
    "#=================================================-\n",
    "#### Slide 15: Reshaping arrays (cont'd)  ####\n",
    "\n",
    "print(arr.reshape(2,      #<- specify number of rows=2\n",
    "                  2))     #<- number of columns=2 throws error\n",
    "\n",
    "\n"
   ]
  },
  {
   "cell_type": "code",
   "execution_count": null,
   "id": "79b9003d",
   "metadata": {},
   "outputs": [],
   "source": [
    "#=================================================-\n",
    "#### Slide 17: Exercise   ####\n",
    "\n",
    "\n",
    "\n",
    "\n",
    "#######################################################\n",
    "####  CONGRATULATIONS ON COMPLETING THIS MODULE!   ####\n",
    "#######################################################\n"
   ]
  }
 ],
 "metadata": {
  "kernelspec": {
   "display_name": "Python 3",
   "language": "python",
   "name": "python3"
  },
  "language": "python",
  "language_info": {
   "codemirror_mode": {
    "name": "ipython",
    "version": 3
   },
   "file_extension": ".py",
   "mimetype": "text/x-python",
   "name": "python",
   "nbconvert_exporter": "python",
   "pygments_lexer": "ipython3",
   "version": "3.10.8"
  }
 },
 "nbformat": 4,
 "nbformat_minor": 5
}
