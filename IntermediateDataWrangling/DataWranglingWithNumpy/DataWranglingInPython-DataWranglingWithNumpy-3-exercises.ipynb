{
 "cells": [
  {
   "cell_type": "markdown",
   "id": "302b8533",
   "metadata": {},
   "source": [
    "## DATAWRANGLINGINPYTHON/DATAWRANGLINGWITHNUMPY/DATAWRANGLINGINPYTHON DATAWRANGLINGWITHNUMPY 3 EXERCISE  ##\n",
    "#### Please refer to module 1 of DataWranglingInPython - DataWranglingWithNumpy for Tasks 1-6 \n",
    "#### Task 1\n",
    "##### Create an array of 25 numbers between 1 and 100 (including 100) and save to `arr1` variable.\n",
    "##### Print the type and data type of `arr1`.\n",
    "#### Result:\n"
   ]
  },
  {
   "cell_type": "code",
   "execution_count": 3,
   "id": "0f3177ad",
   "metadata": {},
   "outputs": [
    {
     "name": "stdout",
     "output_type": "stream",
     "text": [
      "[  1.      5.125   9.25   13.375  17.5    21.625  25.75   29.875  34.\n",
      "  38.125  42.25   46.375  50.5    54.625  58.75   62.875  67.     71.125\n",
      "  75.25   79.375  83.5    87.625  91.75   95.875 100.   ]\n"
     ]
    }
   ],
   "source": [
    "import numpy as np\n",
    "arr = np.linspace(1, 100, 25)\n",
    "print(arr)"
   ]
  },
  {
   "cell_type": "markdown",
   "id": "ea03ecfa",
   "metadata": {},
   "source": [
    "#### Task 2\n",
    "##### Create an array of 20 numbers from 50 to 70 (excluding 70).\n",
    "##### Use the `arange` function and assign the output to `arr2` variable.\n",
    "#### Result:\n"
   ]
  },
  {
   "cell_type": "code",
   "execution_count": 5,
   "id": "a8727ea2",
   "metadata": {},
   "outputs": [
    {
     "name": "stdout",
     "output_type": "stream",
     "text": [
      "[50 51 52 53 54 55 56 57 58 59 60 61 62 63 64 65 66 67 68 69]\n"
     ]
    }
   ],
   "source": [
    "arr2 = np.arange(50,70)\n",
    "print(arr2)"
   ]
  },
  {
   "cell_type": "markdown",
   "id": "99ad2189",
   "metadata": {},
   "source": [
    "#### Please refer to module 2 of DataWranglingInPython - DataWranglingWithNumpy for Tasks 3-6 \n",
    "#### Task 3\n",
    "##### Create an array of 10 numbers between 0 and 20 (including 20) and assign to `arr3` variable.\n",
    "##### Use `linspace` function.\n",
    "##### Find the max, min, their indices, sum and mean of the array.\n",
    "#### Result:\n"
   ]
  },
  {
   "cell_type": "code",
   "execution_count": 6,
   "id": "d2c4e15f",
   "metadata": {},
   "outputs": [
    {
     "name": "stdout",
     "output_type": "stream",
     "text": [
      "[ 0.          2.22222222  4.44444444  6.66666667  8.88888889 11.11111111\n",
      " 13.33333333 15.55555556 17.77777778 20.        ]\n",
      "20.0\n",
      "9\n",
      "0.0\n",
      "0\n",
      "100.0\n",
      "10.0\n"
     ]
    }
   ],
   "source": [
    "import numpy as np\n",
    "arr3 = np.linspace(0,20,10)\n",
    "print(arr3)\n",
    "a_max = np.max(arr3)\n",
    "print(a_max)\n",
    "a= np.argmax(arr3)\n",
    "print(a)\n",
    "a_min = np.min(arr3)\n",
    "print(a_min)\n",
    "b= np.argmin(arr3)\n",
    "print(b)\n",
    "a_sum = np.sum(arr3)\n",
    "print(a_sum)\n",
    "a_mean = np.mean(arr3)\n",
    "print(a_mean)"
   ]
  },
  {
   "cell_type": "markdown",
   "id": "6abe8e63",
   "metadata": {},
   "source": [
    "#### Task 4\n",
    "##### Create two arrays of size 4 with the numbers 4, 5, 6, 4 in `array1` and 7, 2, 12, 16 in `array2`.\n",
    "##### Find the `sum`,  `product`, `difference`, and `quotient` of `array1` and `array2`. Save the results as `array_sum`, `product`, `difference`, and `quotient` variables, respectively.\n",
    "##### Perform the set operations `union` and `intersect` on the arrays.\n",
    "##### Stack the arrays vertically and horizontally.\n",
    "##### Print the results.\n",
    "#### Result:\n"
   ]
  },
  {
   "cell_type": "code",
   "execution_count": 9,
   "id": "2b6fafc0",
   "metadata": {},
   "outputs": [
    {
     "name": "stdout",
     "output_type": "stream",
     "text": [
      "[11  7 18 20]\n",
      "[28 10 72 64]\n",
      "[ -3   3  -6 -12]\n",
      "[0.57142857 2.5        0.5        0.25      ]\n",
      "[ 2  4  5  6  7 12 16]\n",
      "[]\n",
      "[ 4  5  6  4  7  2 12 16]\n",
      "[[ 4  5  6  4]\n",
      " [ 7  2 12 16]]\n"
     ]
    }
   ],
   "source": [
    "a = np.array([4,5,6,4])\n",
    "b = np.array([7,2,12,16])\n",
    "s= a+b\n",
    "print(s)\n",
    "p = a*b\n",
    "print(p)\n",
    "d = a-b\n",
    "print(d)\n",
    "q = a/b\n",
    "print(q)\n",
    "\n",
    "u = np.union1d(a,b)\n",
    "print(u)\n",
    "i = np.intersect1d(a,b)\n",
    "print(i)\n",
    "print(np.hstack((a,b)))\n",
    "\n",
    "# Stacking arrays vertically.\n",
    "print(np.vstack((a,b)))\n"
   ]
  },
  {
   "cell_type": "markdown",
   "id": "d6333c19",
   "metadata": {},
   "source": [
    "#### Task 5\n",
    "##### Compute the absolute value of each entry in the following array: `[5, -8, -66, 4]`.\n",
    "##### Assign the operation to `abs_values` variable. Print the result.\n",
    "##### Print the length of the `abs_values` array.\n",
    "##### Print the 3rd element of `abs_values`.\n",
    "#### Result:\n"
   ]
  },
  {
   "cell_type": "code",
   "execution_count": 11,
   "id": "7d611dcb",
   "metadata": {},
   "outputs": [
    {
     "name": "stdout",
     "output_type": "stream",
     "text": [
      "[ 5  8 66  4]\n",
      "4\n",
      "66\n"
     ]
    }
   ],
   "source": [
    "abs_values = np.abs(np.array([5,-8,-66,4]))\n",
    "print(abs_values)\n",
    "print(len(abs_values))\n",
    "print(abs_values[2])\n"
   ]
  },
  {
   "cell_type": "markdown",
   "id": "389ad96d",
   "metadata": {},
   "source": [
    "#### Task 6\n",
    "##### Print all numbers greater than 25 in `abs_values` array.\n",
    "#### Result:\n"
   ]
  },
  {
   "cell_type": "code",
   "execution_count": 12,
   "id": "6ff6388f",
   "metadata": {},
   "outputs": [
    {
     "name": "stdout",
     "output_type": "stream",
     "text": [
      "[66]\n"
     ]
    }
   ],
   "source": [
    "print(abs_values[abs_values>25])"
   ]
  },
  {
   "cell_type": "markdown",
   "id": "91b84c31",
   "metadata": {},
   "source": [
    "#### Please refer to module 3 of DataWranglingInPython - DataWranglingWithNumpy for Tasks 7-8\n",
    "#### Task 7\n",
    "##### Create the following matrix with 3 rows and assign to variable `mat1`:\n",
    "- [4, 5, 6]\n",
    "- [8, 3, 2]\n",
    "- [6, 7, 3]\n",
    "##### Find the shape of the matrix.\n",
    "#### Result:\n"
   ]
  },
  {
   "cell_type": "code",
   "execution_count": 3,
   "id": "70cdea16",
   "metadata": {},
   "outputs": [
    {
     "name": "stdout",
     "output_type": "stream",
     "text": [
      "(3, 3)\n"
     ]
    }
   ],
   "source": [
    "import numpy as np\n",
    "mat1 = np.array([[4,5,6],[8,3,2],[6,7,3]])\n",
    "print(mat1.shape)"
   ]
  },
  {
   "cell_type": "markdown",
   "id": "706462a8",
   "metadata": {},
   "source": [
    "#### Task 8\n",
    "##### Find the value in the 2nd row and 3rd column of `mat1`.\n",
    "##### Print the 2nd and 3rd rows.\n",
    "##### Print the 1st column and rows up to the 2nd row.\n",
    "##### Print all columns starting with column 2.\n",
    "#### Result:\n"
   ]
  },
  {
   "cell_type": "code",
   "execution_count": 12,
   "id": "1d0e160c",
   "metadata": {},
   "outputs": [
    {
     "name": "stdout",
     "output_type": "stream",
     "text": [
      "2\n",
      "[[8 3 2]\n",
      " [6 7 3]]\n",
      "[4 8]\n",
      "[[5 6]\n",
      " [3 2]\n",
      " [7 3]]\n"
     ]
    }
   ],
   "source": [
    "print(mat1[1,2])\n",
    "print(mat1[1:,])\n",
    "print(mat1[0:2,0])\n",
    "print(mat1[:,1:])"
   ]
  },
  {
   "cell_type": "markdown",
   "id": "1aa4f9d6",
   "metadata": {},
   "source": [
    "#### Bonus Task 1\n",
    "##### Filter and print the elements greater than 5 in `mat1`.\n",
    "##### Use a Boolean mask to filter all elements <= 5 and set them to 0.\n",
    "##### Print the resulting matrix.\n",
    "#### Result:\n"
   ]
  },
  {
   "cell_type": "code",
   "execution_count": 14,
   "id": "50707f80",
   "metadata": {},
   "outputs": [
    {
     "name": "stdout",
     "output_type": "stream",
     "text": [
      "[6 8 6 7]\n",
      "[[0 0 6]\n",
      " [8 0 0]\n",
      " [6 7 0]]\n"
     ]
    }
   ],
   "source": [
    "print(mat1[mat1>5])\n",
    "mat1[mat1<=5] = 0\n",
    "print(mat1)"
   ]
  },
  {
   "cell_type": "markdown",
   "id": "f997d638",
   "metadata": {},
   "source": [
    "#### Bonus Task 2\n",
    "##### Use the `linspace` function to create a NumPy array of 16 numbers between 10 and 25 (inclusive) called `arr4`.\n",
    "##### Reshape the array to a matrix of shape (4,4) and print it.\n",
    "##### Reshape the array to a matrix with 8 rows and let Python infer the number of columns.\n",
    "#### Result:\n"
   ]
  },
  {
   "cell_type": "code",
   "execution_count": 17,
   "id": "a24bba47",
   "metadata": {},
   "outputs": [
    {
     "name": "stdout",
     "output_type": "stream",
     "text": [
      "[10. 11. 12. 13. 14. 15. 16. 17. 18. 19. 20. 21. 22. 23. 24. 25.]\n",
      "[[10. 11. 12. 13.]\n",
      " [14. 15. 16. 17.]\n",
      " [18. 19. 20. 21.]\n",
      " [22. 23. 24. 25.]]\n"
     ]
    }
   ],
   "source": [
    "arr4 = np.linspace(10,25,16)\n",
    "print(arr4)\n",
    "print(arr4.reshape(4,4))\n",
    "\n",
    "\n",
    "\n",
    "# arr4 = np.linspace(10,25,16).reshape(4,4)\n",
    "# print(arr4)"
   ]
  }
 ],
 "metadata": {
  "kernelspec": {
   "display_name": "Python 3",
   "language": "python",
   "name": "python3"
  },
  "language": "python",
  "language_info": {
   "codemirror_mode": {
    "name": "ipython",
    "version": 3
   },
   "file_extension": ".py",
   "mimetype": "text/x-python",
   "name": "python",
   "nbconvert_exporter": "python",
   "pygments_lexer": "ipython3",
   "version": "3.10.13"
  }
 },
 "nbformat": 4,
 "nbformat_minor": 5
}
