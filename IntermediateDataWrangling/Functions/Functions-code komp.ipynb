{
 "cells": [
  {
   "cell_type": "code",
   "execution_count": null,
   "id": "c0e47b78",
   "metadata": {},
   "outputs": [],
   "source": [
    "#######################################################\n",
    "#######################################################\n",
    "############    COPYRIGHT - DATA SOCIETY   ############\n",
    "#######################################################\n",
    "#######################################################\n",
    "\n",
    "## INTERMEDIATEPYTHON/FUNCTIONS/INTERMEDIATEPYTHON FUNCTIONS 1 ##\n",
    "\n",
    "## NOTE: To run individual pieces of code, select the line of code and\n",
    "##       press ctrl + enter for PCs or command + enter for Macs\n",
    "\n",
    "\n"
   ]
  },
  {
   "cell_type": "code",
   "execution_count": 1,
   "id": "3c72c062",
   "metadata": {},
   "outputs": [
    {
     "name": "stdout",
     "output_type": "stream",
     "text": [
      "3.14\n"
     ]
    }
   ],
   "source": [
    "#=================================================-\n",
    "#### Slide 8: User-defined functions in Python  ####\n",
    "\n",
    "# Define a function that prints the value of `Pi`. \n",
    "def PrintPi():     #<- function name\n",
    "    print(3.14)    #<- action to perform\n",
    "PrintPi()\n",
    "\n",
    "\n"
   ]
  },
  {
   "cell_type": "code",
   "execution_count": null,
   "id": "b4b68237",
   "metadata": {},
   "outputs": [],
   "source": [
    "#=================================================-\n",
    "#### Slide 9: Functions in Python with one or more arguments  ####\n",
    "\n",
    "# Define a function that prints the value of `Pi`\n",
    "# and takes a number of decimal points to which we want to round the number.\n",
    "def PrintPi(num_decimals):               #<- function name + argument(s)\n",
    "    pi = 3.14159265359                   #<- action to perform\n",
    "    rounded_pi = round(pi, num_decimals) #<- action to perform\n",
    "    print(rounded_pi)                    #<- action to perform\n",
    "    \n",
    "# Print value of pi rounded to 4 decimal points.\n",
    "PrintPi(4)\n",
    "\n",
    "\n"
   ]
  },
  {
   "cell_type": "code",
   "execution_count": null,
   "id": "c7457e39",
   "metadata": {},
   "outputs": [],
   "source": [
    "#=================================================-\n",
    "#### Slide 10: Functions in Python that return a value  ####\n",
    "\n",
    "# Define a function that prints the value of `Pi`,\n",
    "# takes a number of decimal points to which we want to round the number,\n",
    "# and returns the value back to us.\n",
    "def GetPi(num_decimals):                 #<- function name + argument(s)\n",
    "    pi = 3.14159265359                   #<- action to perform\n",
    "    rounded_pi = round(pi, num_decimals) #<- action to perform\n",
    "    return rounded_pi                    #<- value to return\n",
    "\n",
    "\n"
   ]
  },
  {
   "cell_type": "code",
   "execution_count": null,
   "id": "50e57aeb",
   "metadata": {},
   "outputs": [],
   "source": [
    "#=================================================-\n",
    "#### Slide 11: Functions in Python that return a value (cont'd)  ####\n",
    "\n",
    "# Return a value of pi rounded to 4 decimal points.\n",
    "print(GetPi(4)) \n",
    "\n",
    "# Return a value of pi rounded to 4 decimal points.\n",
    "# Assign it to a variable.\n",
    "pi_4 = GetPi(4)\n",
    "print(pi_4)\n",
    "\n",
    "\n",
    "\n"
   ]
  },
  {
   "cell_type": "code",
   "execution_count": null,
   "id": "cd4b0775",
   "metadata": {},
   "outputs": [],
   "source": [
    "#=================================================-\n",
    "#### Slide 13: Functions in Python: MakeFullName  ####\n",
    "\n",
    "# Define a function that concatenates \n",
    "# first and last names.\n",
    "def MakeFullName(first_name, last_name):\n",
    "    full_name = first_name + ' ' + last_name\n",
    "    return full_name\n",
    "\n",
    "\n"
   ]
  },
  {
   "cell_type": "code",
   "execution_count": null,
   "id": "64457c91",
   "metadata": {},
   "outputs": [],
   "source": [
    "#=================================================-\n",
    "#### Slide 14: Functions in Python: calling a function  ####\n",
    "\n",
    "# Call the function.\n",
    "print(MakeFullName(\"Harry\", \"Potter\"))\n",
    "# Call the function and save \n",
    "# output to variable.\n",
    "output_name = MakeFullName(\"Harry\", \"Potter\")\n",
    "print(output_name)\n",
    "\n",
    "\n"
   ]
  },
  {
   "cell_type": "code",
   "execution_count": null,
   "id": "ae9487cc",
   "metadata": {},
   "outputs": [],
   "source": [
    "#=================================================-\n",
    "#### Slide 15: Functions in Python: EvaluateCarPrice  ####\n",
    "\n",
    "def EvaluateCarPrice(price):\n",
    "    if price > 38000:\n",
    "        action = \"Leave the dealership immediately, this is a rip off!\"\n",
    "    elif price > 22000 and price <= 38000 :\n",
    "        action = \"Take the car and go celebrate, you can afford it!\"\n",
    "    else:\n",
    "        action = \"Leave the dealership immediately, this is a scam!\"\n",
    "    return action\n",
    "\n",
    "\n"
   ]
  },
  {
   "cell_type": "code",
   "execution_count": null,
   "id": "2c97e0e4",
   "metadata": {},
   "outputs": [],
   "source": [
    "#=================================================-\n",
    "#### Slide 16: Functions in Python: calling a function  ####\n",
    "\n",
    "# Let's set the price of a car to $45,000.\n",
    "price = 45000\n",
    "action1 = EvaluateCarPrice(price)\n",
    "print(action1)\n",
    "\n",
    "# Let's set the price of a car to $32,000.\n",
    "price = 32000\n",
    "action2 = EvaluateCarPrice(price)\n",
    "print(action2)\n",
    "\n",
    "# Let's set the price of a car to $5,000.\n",
    "price = 5000\n",
    "action3 = EvaluateCarPrice(price)\n",
    "print(action3)\n",
    "\n",
    "\n"
   ]
  },
  {
   "cell_type": "code",
   "execution_count": null,
   "id": "2cbfd836",
   "metadata": {},
   "outputs": [],
   "source": [
    "#=================================================-\n",
    "#### Slide 17: Functions that return two or more values  ####\n",
    "\n",
    "def MostProfitableMonth(sales_data):\n",
    "\n",
    "    biggest_amt = 0\n",
    "    biggest_month = None\n",
    "    \n",
    "    for month, amt in sales_data.items():\n",
    "        if amt >= biggest_amt:\n",
    "            biggest_amt = amt\n",
    "            biggest_month = month\n",
    "            \n",
    "    return (biggest_month, biggest_amt) \n",
    "\n",
    "\n"
   ]
  },
  {
   "cell_type": "code",
   "execution_count": null,
   "id": "97da6000",
   "metadata": {},
   "outputs": [],
   "source": [
    "#=================================================-\n",
    "#### Slide 19: Functions that return two or more values (cont'd)  ####\n",
    "\n",
    "# Let's define a dictionary with sales data.\n",
    "year_sales = {'January': 1045, 'February': 1008, 'March': 1025, \n",
    "                    'April': 1080, 'May': 1100, 'June': 1050, 'July': 1050,\n",
    "                    'August': 950, 'September': 1010, 'October': 1500, \n",
    "                    'November': 1450, 'December': 1380}\n",
    "# Assign output of function to variables in correct order.\n",
    "best_sales_month, best_sales_amt = MostProfitableMonth(year_sales)\n",
    "print(\"Best month:\", best_sales_month)\n",
    "print(\"Best amount:\", best_sales_amt)\n",
    "\n",
    "\n"
   ]
  },
  {
   "cell_type": "code",
   "execution_count": null,
   "id": "ada57d95",
   "metadata": {},
   "outputs": [],
   "source": [
    "#=================================================-\n",
    "#### Slide 20: Passing a list as an argument  ####\n",
    "\n",
    "# Define a function that returns the length of all character strings in a list.\n",
    "def calculate_lengths(list_of_strings):\n",
    "  # Define an empty list to store the result.\n",
    "  lengths = []\n",
    "  # Use a for loop to access items in the input list.\n",
    "  for item in list_of_strings:\n",
    "    lengths.append(len(item))\n",
    "  \n",
    "  return lengths\n",
    "result = calculate_lengths([\"Monday\", \"Tuesday\", \"Saturday\"])\n",
    "print(result)\n",
    "\n",
    "\n"
   ]
  },
  {
   "cell_type": "code",
   "execution_count": null,
   "id": "d9b49c3c",
   "metadata": {},
   "outputs": [],
   "source": [
    "#=================================================-\n",
    "#### Slide 21: Functions that have default arguments  ####\n",
    "\n",
    "def MostProfitableMonth(sales_data, verbose = True):\n",
    "\n",
    "    biggest_amt = 0\n",
    "    biggest_month = None\n",
    "    \n",
    "    for month, amt in sales_data.items():\n",
    "        if amt >= biggest_amt:\n",
    "            biggest_amt = amt\n",
    "            biggest_month = month\n",
    "            \n",
    "    if verbose:\n",
    "        print('The best sales month was', biggest_month, 'with amount sold equal to', biggest_amt)\n",
    "        \n",
    "    return (biggest_month, biggest_amt) \n",
    "\n",
    "\n"
   ]
  },
  {
   "cell_type": "code",
   "execution_count": null,
   "id": "09f363f5",
   "metadata": {},
   "outputs": [],
   "source": [
    "#=================================================-\n",
    "#### Slide 22: Functions that have default arguments (cont'd)  ####\n",
    "\n",
    "# Assign output of function to variables in correct order.\n",
    "best_sales_month, best_sales_amt = MostProfitableMonth(year_sales)\n",
    "# Assign output of function to variables in correct order.\n",
    "best_sales_month, best_sales_amt = MostProfitableMonth(year_sales, False)\n",
    "print(\"Best month:\", best_sales_month, \"Best amount:\", best_sales_amt)\n",
    "\n",
    "\n"
   ]
  },
  {
   "cell_type": "code",
   "execution_count": null,
   "id": "9be646d6",
   "metadata": {},
   "outputs": [],
   "source": [
    "#=================================================-\n",
    "#### Slide 24: Anonymous functions: syntax  ####\n",
    "\n",
    "print((lambda v: v + \" the 5th of November!\")(\"Remember\"))\n",
    "\n",
    "\n"
   ]
  },
  {
   "cell_type": "code",
   "execution_count": 1,
   "id": "e44ac013",
   "metadata": {},
   "outputs": [
    {
     "name": "stdout",
     "output_type": "stream",
     "text": [
      "Remember the 5th of November!\n",
      "-222\n"
     ]
    }
   ],
   "source": [
    "#=================================================-\n",
    "#### Slide 25: Anonymous functions with multiple arguments  ####\n",
    "\n",
    "remember = lambda v: v + \" the 5th of November!\"\n",
    "print(remember(\"Remember\"))\n",
    "y = lambda a, b: a + b\n",
    "print(y(765, -987))\n",
    "\n",
    "\n",
    "\n"
   ]
  },
  {
   "cell_type": "code",
   "execution_count": 6,
   "id": "ddccb95d",
   "metadata": {},
   "outputs": [
    {
     "name": "stdout",
     "output_type": "stream",
     "text": [
      "3\n",
      "15\n"
     ]
    }
   ],
   "source": [
    "def my_sum(*args):\n",
    "    return sum(args)\n",
    "print(my_sum(1,2))\n",
    "print(my_sum(*[1,2,3,4,5])) #unpack the list"
   ]
  },
  {
   "cell_type": "code",
   "execution_count": 7,
   "id": "3da33be1",
   "metadata": {},
   "outputs": [
    {
     "name": "stdout",
     "output_type": "stream",
     "text": [
      "22 :  Even\n",
      "41 :  Odd\n",
      "16 :  Even\n",
      "13 :  Odd\n"
     ]
    }
   ],
   "source": [
    "#=================================================-\n",
    "#### Slide 26: Function within another function  ####\n",
    "\n",
    "# Define a function to check if a number is even or odd.\n",
    "def even_odd(num):\n",
    "  if num%2 == 0:           #<- % is the Modulo operator.\n",
    "    result = \"Even\"\n",
    "  else:\n",
    "    result = \"Odd\"\n",
    "  return result\n",
    "# Define a function to print if each element of a list is even or odd.\n",
    "def even_odd_list(numbers):\n",
    "  for num in numbers:\n",
    "    result = even_odd(num)   #<- Call function on num an assign its result\n",
    "    print(num, \": \", result)\n",
    "\n",
    "even_odd_list([22,41,16,13])\n",
    "\n",
    "\n"
   ]
  },
  {
   "cell_type": "code",
   "execution_count": 8,
   "id": "1cc2c13f",
   "metadata": {},
   "outputs": [
    {
     "data": {
      "text/plain": [
       "{22: 'Even', 41: 'Odd', 16: 'Even', 13: 'Odd'}"
      ]
     },
     "execution_count": 8,
     "metadata": {},
     "output_type": "execute_result"
    }
   ],
   "source": [
    "{num: \"Even\" if num%2 == 0 else \"Odd\" for num in [22,41,16,13]} #dict comprehension"
   ]
  },
  {
   "cell_type": "code",
   "execution_count": 9,
   "id": "5909a15e",
   "metadata": {},
   "outputs": [
    {
     "data": {
      "text/plain": [
       "{22: 'Odd', 41: 'Odd', 16: 'Odd', 13: 'Odd'}"
      ]
     },
     "execution_count": 9,
     "metadata": {},
     "output_type": "execute_result"
    }
   ],
   "source": [
    "{num: \"Odd\" if num%2 else \"Odd\" for num in [22,41,16,13]} #dict comprehension to samo"
   ]
  },
  {
   "cell_type": "code",
   "execution_count": 14,
   "id": "369efc56",
   "metadata": {},
   "outputs": [
    {
     "data": {
      "text/plain": [
       "[1,\n",
       " 2,\n",
       " 'Fizz',\n",
       " 4,\n",
       " 'Buzz',\n",
       " 'Fizz',\n",
       " 7,\n",
       " 8,\n",
       " 'Fizz',\n",
       " 'Buzz',\n",
       " 11,\n",
       " 'Fizz',\n",
       " 13,\n",
       " 14,\n",
       " 'FizzBuzz',\n",
       " 16,\n",
       " 17,\n",
       " 'Fizz',\n",
       " 19,\n",
       " 'Buzz',\n",
       " 'Fizz',\n",
       " 22,\n",
       " 23,\n",
       " 'Fizz',\n",
       " 'Buzz',\n",
       " 26,\n",
       " 'Fizz',\n",
       " 28,\n",
       " 29,\n",
       " 'FizzBuzz',\n",
       " 31,\n",
       " 32,\n",
       " 'Fizz',\n",
       " 34,\n",
       " 'Buzz',\n",
       " 'Fizz',\n",
       " 37,\n",
       " 38,\n",
       " 'Fizz',\n",
       " 'Buzz',\n",
       " 41,\n",
       " 'Fizz',\n",
       " 43,\n",
       " 44,\n",
       " 'FizzBuzz',\n",
       " 46,\n",
       " 47,\n",
       " 'Fizz',\n",
       " 49,\n",
       " 'Buzz',\n",
       " 'Fizz',\n",
       " 52,\n",
       " 53,\n",
       " 'Fizz',\n",
       " 'Buzz',\n",
       " 56,\n",
       " 'Fizz',\n",
       " 58,\n",
       " 59,\n",
       " 'FizzBuzz',\n",
       " 61,\n",
       " 62,\n",
       " 'Fizz',\n",
       " 64,\n",
       " 'Buzz',\n",
       " 'Fizz',\n",
       " 67,\n",
       " 68,\n",
       " 'Fizz',\n",
       " 'Buzz',\n",
       " 71,\n",
       " 'Fizz',\n",
       " 73,\n",
       " 74,\n",
       " 'FizzBuzz',\n",
       " 76,\n",
       " 77,\n",
       " 'Fizz',\n",
       " 79,\n",
       " 'Buzz',\n",
       " 'Fizz',\n",
       " 82,\n",
       " 83,\n",
       " 'Fizz',\n",
       " 'Buzz',\n",
       " 86,\n",
       " 'Fizz',\n",
       " 88,\n",
       " 89,\n",
       " 'FizzBuzz',\n",
       " 91,\n",
       " 92,\n",
       " 'Fizz',\n",
       " 94,\n",
       " 'Buzz',\n",
       " 'Fizz',\n",
       " 97,\n",
       " 98,\n",
       " 'Fizz',\n",
       " 'Buzz']"
      ]
     },
     "execution_count": 14,
     "metadata": {},
     "output_type": "execute_result"
    }
   ],
   "source": [
    "#fiss buzz\n",
    "#jeśli jest podzielne przez 3 to pisze fiss jesli przez 5 to buzz\n",
    "[num if num%3 != 0 and num%5 != 0 else \"FizzBuzz\" if num%3==0 and num%5 == 0 else \"Fizz\" if num%3 == 0  else \"Buzz\" for num in range (1,101)]"
   ]
  },
  {
   "cell_type": "code",
   "execution_count": null,
   "id": "a8228109",
   "metadata": {},
   "outputs": [],
   "source": [
    "#=================================================-\n",
    "#### Slide 28: Exercise   ####\n",
    "\n",
    "\n",
    "\n",
    "\n",
    "#######################################################\n",
    "####  CONGRATULATIONS ON COMPLETING THIS MODULE!   ####\n",
    "#######################################################\n"
   ]
  }
 ],
 "metadata": {
  "kernelspec": {
   "display_name": "Python 3",
   "language": "python",
   "name": "python3"
  },
  "language": "python",
  "language_info": {
   "codemirror_mode": {
    "name": "ipython",
    "version": 3
   },
   "file_extension": ".py",
   "mimetype": "text/x-python",
   "name": "python",
   "nbconvert_exporter": "python",
   "pygments_lexer": "ipython3",
   "version": "3.10.8"
  }
 },
 "nbformat": 4,
 "nbformat_minor": 5
}
