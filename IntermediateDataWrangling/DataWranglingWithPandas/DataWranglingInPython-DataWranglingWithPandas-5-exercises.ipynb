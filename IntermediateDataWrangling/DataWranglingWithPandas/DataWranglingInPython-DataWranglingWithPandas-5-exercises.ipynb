{
 "cells": [
  {
   "cell_type": "markdown",
   "id": "fb227961",
   "metadata": {},
   "source": [
    "## DATAWRANGLINGINPYTHON/DATAWRANGLINGWITHPANDAS/DATAWRANGLINGINPYTHON DATAWRANGLINGWITHPANDAS 5 EXERCISE  ##\n",
    "#### Please refer to module 1 of DataWranglingInPython - DataWranglingWithPandas for Tasks 1-4\n",
    "#### Task 1\n",
    "##### Import `pandas` as `pd` and numpy as `np`.\n",
    "##### Import `path` from `Pathlib`.\n",
    "##### Set the data directory using the data_dir variable.\n",
    "#### Result:\n"
   ]
  },
  {
   "cell_type": "code",
   "execution_count": 1,
   "id": "32a2d848",
   "metadata": {},
   "outputs": [],
   "source": [
    "import pandas as pd\n",
    "import numpy as np"
   ]
  },
  {
   "cell_type": "markdown",
   "id": "ee956f8f",
   "metadata": {},
   "source": [
    "#### Task 2\n",
    "##### Create a Pandas `Series` object from a list of groceries below. Assign it to `shopping_series` variable and print it.\n",
    "- milk\n",
    "- eggs\n",
    "- peppers\n",
    "- cheese\n",
    "- tomatoes\n",
    "##### Print out only the values of the Series.\n",
    "#### Result:\n"
   ]
  },
  {
   "cell_type": "code",
   "execution_count": null,
   "id": "92b736f1",
   "metadata": {},
   "outputs": [],
   "source": [
    "shopping_series = pd.Series(['milk', 'eggs', 'peppers', 'cheese', 'tomatoes'])\n",
    "print(shopping_series)"
   ]
  },
  {
   "cell_type": "code",
   "execution_count": null,
   "id": "83be5a01",
   "metadata": {},
   "outputs": [],
   "source": [
    "print(shopping_series.values)"
   ]
  },
  {
   "cell_type": "code",
   "execution_count": null,
   "id": "58fa343f",
   "metadata": {},
   "outputs": [],
   "source": [
    "data = ['milk', 'eggs', 'peppers', 'cheese', 'tomatoes']\n",
    "index = ['a', 'b', 'c', 'd', 'e']\n",
    "series2 = pd.Series(data, index=index)\n",
    "print(series2)"
   ]
  },
  {
   "cell_type": "code",
   "execution_count": null,
   "id": "4e534a7b",
   "metadata": {},
   "outputs": [],
   "source": [
    "print(series2['a'])"
   ]
  },
  {
   "cell_type": "markdown",
   "id": "372b7cbc",
   "metadata": {},
   "source": [
    "#### Task 3\n",
    "##### Create a Pandas Date Series object starting from `January 1st 2019` and ending with `January 1st 2020` separated monthly. Assign the Series to `monthly_series` variable. Print the result.     \n",
    "##### Create another Pandas Date Series object starting from `January 1st 2019` and covering 12 monthly periods. Assign the Series to `monthly_series_by_period` variable. Print the result.\n",
    "##### Are the two Series equivalent?\n",
    "#### Result:\n"
   ]
  },
  {
   "cell_type": "code",
   "execution_count": null,
   "id": "6f043e94",
   "metadata": {},
   "outputs": [],
   "source": [
    "series3 = pd.date_range(start='2019-01-01', end='2020-01-01', freq='M')\n",
    "print(series3)\n",
    "# series_data = pd.Series(index=series3)\n",
    "# print(series_data)"
   ]
  },
  {
   "cell_type": "code",
   "execution_count": null,
   "id": "5b4cd52c",
   "metadata": {},
   "outputs": [],
   "source": [
    "series4 = pd.date_range(start='2019-01-01', periods=12, freq='M')\n",
    "print(series4)"
   ]
  },
  {
   "cell_type": "markdown",
   "id": "e527124b",
   "metadata": {},
   "source": [
    "#### Task 4\n",
    "##### Create a NumPy array `abs_values` with values `[5, 8, 66, 4]` and convert it into a `Pandas Series` object. Assign it to variable `abs_series`.\n",
    "##### Print the result.\n",
    "##### Then print the results of the following operations:\n",
    "- Get the shape of the Series\n",
    "- Find the mean of the Series\n",
    "- Find the median of the Series\n",
    "- Find the standard deviation of the Series\n",
    "- Get unique values in the Series\n",
    "- Get the number of unique values in the Series\n",
    "#### Here are some bonus questions that you could work on later\n",
    "- Get counts of unique values in the Series\n",
    "- Find the position of the minimum value in the Series\n",
    "- Find the position of the maximum value in the Series\n",
    "- Rank items in the Series in descending order\n",
    "- Sort values in the Series\n",
    "- Find sum of the Series\n",
    "- Find cumulative sum of the Series\n",
    "#### Result:\n"
   ]
  },
  {
   "cell_type": "code",
   "execution_count": 2,
   "id": "7abbcd2a",
   "metadata": {},
   "outputs": [
    {
     "name": "stdout",
     "output_type": "stream",
     "text": [
      "(4,)\n",
      "0     5\n",
      "1     8\n",
      "2    66\n",
      "3     4\n",
      "dtype: int64\n"
     ]
    }
   ],
   "source": [
    "abs_values = np.array([5, 8, 66, 4])\n",
    "print(abs_values.shape)\n",
    "abs_values = pd.Series(abs_values)\n",
    "print(abs_values)"
   ]
  },
  {
   "cell_type": "code",
   "execution_count": null,
   "id": "ecb0aeeb",
   "metadata": {},
   "outputs": [],
   "source": [
    "abs_values.shape"
   ]
  },
  {
   "cell_type": "code",
   "execution_count": null,
   "id": "2bc08c08",
   "metadata": {},
   "outputs": [],
   "source": [
    "abs_values.mean()"
   ]
  },
  {
   "cell_type": "code",
   "execution_count": null,
   "id": "85a096be",
   "metadata": {},
   "outputs": [],
   "source": [
    "abs_values.median()"
   ]
  },
  {
   "cell_type": "code",
   "execution_count": null,
   "id": "6cdc4ca2",
   "metadata": {},
   "outputs": [],
   "source": [
    "abs_values.std()"
   ]
  },
  {
   "cell_type": "code",
   "execution_count": null,
   "id": "9178f38b",
   "metadata": {},
   "outputs": [],
   "source": [
    "abs_values.unique()"
   ]
  },
  {
   "cell_type": "code",
   "execution_count": null,
   "id": "1fc9cd2c",
   "metadata": {},
   "outputs": [],
   "source": [
    "abs_values.nunique()"
   ]
  },
  {
   "cell_type": "code",
   "execution_count": null,
   "id": "ec865f86",
   "metadata": {},
   "outputs": [],
   "source": [
    "abs_values.value_counts()"
   ]
  },
  {
   "cell_type": "code",
   "execution_count": null,
   "id": "665e6118",
   "metadata": {},
   "outputs": [],
   "source": [
    "abs_values.idxmin()"
   ]
  },
  {
   "cell_type": "code",
   "execution_count": null,
   "id": "28e4bf3e",
   "metadata": {},
   "outputs": [],
   "source": [
    "abs_values.idxmax()"
   ]
  },
  {
   "cell_type": "code",
   "execution_count": null,
   "id": "12518da7",
   "metadata": {},
   "outputs": [],
   "source": [
    "abs_values.sort_values(ascending=False)"
   ]
  },
  {
   "cell_type": "code",
   "execution_count": 3,
   "id": "930195f3",
   "metadata": {},
   "outputs": [
    {
     "name": "stdout",
     "output_type": "stream",
     "text": [
      "83\n",
      "0     5\n",
      "1    13\n",
      "2    79\n",
      "3    83\n",
      "dtype: int64\n"
     ]
    }
   ],
   "source": [
    "print(abs_values.sum())\n",
    "print(abs_values.cumsum())\n"
   ]
  },
  {
   "cell_type": "code",
   "execution_count": null,
   "id": "f8cbc6be",
   "metadata": {},
   "outputs": [],
   "source": []
  },
  {
   "cell_type": "code",
   "execution_count": null,
   "id": "d4b07486",
   "metadata": {},
   "outputs": [],
   "source": []
  },
  {
   "cell_type": "code",
   "execution_count": null,
   "id": "11eef156",
   "metadata": {},
   "outputs": [],
   "source": []
  },
  {
   "cell_type": "markdown",
   "id": "2af28a43",
   "metadata": {},
   "source": [
    "#### Answers for the bonus questions\n"
   ]
  },
  {
   "cell_type": "code",
   "execution_count": null,
   "id": "8bcf3585",
   "metadata": {},
   "outputs": [],
   "source": [
    "print(abs_series.value_counts())\n",
    "print(abs_series.idxmin()) \n",
    "print(abs_series.idxmax())\n",
    "print(abs_series.rank(ascending = False))\n",
    "print(abs_series.sort_values())\n",
    "print(abs_series.sum())\n",
    "print(abs_series.cumsum())\n"
   ]
  },
  {
   "cell_type": "markdown",
   "id": "a3b052c9",
   "metadata": {},
   "source": [
    "#### Please refer to module 2 of DataWranglingInPython - DataWranglingWithPandas for Tasks 5-8\n",
    "#### Task 5\n",
    "##### Create a Pandas Series object from a list of groceries below. Assign it to a variable called `shopping_series` and print it.\n",
    "- milk\n",
    "- eggs\n",
    "- peppers\n",
    "- cheese\n",
    "- tomatoes\n",
    "##### Create a Series object called `prices` that contains the following values: [2.5, 3.99, 1.95, 5.99, 1.29].\n",
    "##### Create a Series object called `num_items` that contains the following values: [1, 1, 2, 1, 3].\n",
    "##### Combine the three `Series` objects described above into a single DataFrame called `shopping_cart` naming the columns as follows:\n",
    "- `item_name`\n",
    "- `item_price`\n",
    "- `item_quantity`\n",
    "##### Print the first few entries (i.e. the `head` of the DataFrame).\n",
    "#### Result:\n"
   ]
  },
  {
   "cell_type": "code",
   "execution_count": 2,
   "id": "c945a69d",
   "metadata": {},
   "outputs": [
    {
     "name": "stdout",
     "output_type": "stream",
     "text": [
      "  item_name  item_price  item_quantity\n",
      "0      milk        2.50              1\n",
      "1      eggs        3.99              1\n",
      "2   peppers        1.95              2\n",
      "3    cheese        5.99              1\n",
      "4  tomatoes        1.29              3\n"
     ]
    }
   ],
   "source": [
    "shopping_series = pd.Series(['milk', 'eggs', 'peppers', 'cheese', 'tomatoes'])\n",
    "prices = pd.Series([2.5, 3.99, 1.95, 5.99, 1.29])\n",
    "num_items = pd.Series([1, 1, 2, 1, 3])\n",
    "\n",
    "shopping_cart = pd.DataFrame({'item_name': shopping_series, 'item_price': prices, 'item_quantity': num_items})\n",
    "print(shopping_cart.head())"
   ]
  },
  {
   "cell_type": "code",
   "execution_count": 6,
   "metadata": {},
   "outputs": [
    {
     "name": "stdout",
     "output_type": "stream",
     "text": [
      "[['milk' 2.5 1]\n",
      " ['eggs' 3.99 1]\n",
      " ['peppers' 1.95 2]\n",
      " ['cheese' 5.99 1]\n",
      " ['tomatoes' 1.29 3]]\n"
     ]
    }
   ],
   "source": [
    "print(shopping_cart.info())\n",
    "print(shopping_cart.values)"
   ]
  },
  {
   "cell_type": "markdown",
   "id": "a479b774",
   "metadata": {},
   "source": [
    "#### Task 6\n",
    "##### Check the following characteristics of the `shopping_cart` object:\n",
    "- Type\n",
    "- Shape\n",
    "- Show column names of the DataFrame\n",
    "- Show information of the DataFrame\n",
    "- Describe the DataFrame\n",
    "##### How many columns are described in the last output? Why do you think that's the case?\n",
    "##### What is the 75th percentile of the column `item_price`?\n",
    "##### What is the standard deviation of the column `item_quantity`?\n",
    "#### Result:\n"
   ]
  },
  {
   "cell_type": "code",
   "execution_count": 7,
   "id": "b91c7eea",
   "metadata": {},
   "outputs": [
    {
     "data": {
      "text/plain": [
       "pandas.core.frame.DataFrame"
      ]
     },
     "execution_count": 7,
     "metadata": {},
     "output_type": "execute_result"
    }
   ],
   "source": [
    "type(shopping_cart)"
   ]
  },
  {
   "cell_type": "code",
   "execution_count": 8,
   "id": "f3068806",
   "metadata": {},
   "outputs": [
    {
     "data": {
      "text/plain": [
       "(5, 3)"
      ]
     },
     "execution_count": 8,
     "metadata": {},
     "output_type": "execute_result"
    }
   ],
   "source": [
    "shopping_cart.shape"
   ]
  },
  {
   "cell_type": "code",
   "execution_count": 12,
   "id": "39cbb804",
   "metadata": {},
   "outputs": [
    {
     "data": {
      "text/plain": [
       "Index(['item_name', 'item_price', 'item_quantity'], dtype='object')"
      ]
     },
     "execution_count": 12,
     "metadata": {},
     "output_type": "execute_result"
    }
   ],
   "source": [
    "shopping_cart.columns"
   ]
  },
  {
   "cell_type": "code",
   "execution_count": 10,
   "id": "beca2fa1",
   "metadata": {},
   "outputs": [
    {
     "name": "stdout",
     "output_type": "stream",
     "text": [
      "<class 'pandas.core.frame.DataFrame'>\n",
      "RangeIndex: 5 entries, 0 to 4\n",
      "Data columns (total 3 columns):\n",
      " #   Column         Non-Null Count  Dtype  \n",
      "---  ------         --------------  -----  \n",
      " 0   item_name      5 non-null      object \n",
      " 1   item_price     5 non-null      float64\n",
      " 2   item_quantity  5 non-null      int64  \n",
      "dtypes: float64(1), int64(1), object(1)\n",
      "memory usage: 248.0+ bytes\n",
      "None\n"
     ]
    }
   ],
   "source": [
    "print(shopping_cart.info())"
   ]
  },
  {
   "cell_type": "code",
   "execution_count": 13,
   "id": "f6d5b7f7",
   "metadata": {},
   "outputs": [
    {
     "data": {
      "text/plain": [
       "3.99"
      ]
     },
     "execution_count": 13,
     "metadata": {},
     "output_type": "execute_result"
    }
   ],
   "source": [
    "shopping_cart[\"item_price\"].quantile(0.75)"
   ]
  },
  {
   "cell_type": "code",
   "execution_count": 14,
   "id": "5cb5ea53",
   "metadata": {},
   "outputs": [
    {
     "data": {
      "text/plain": [
       "0.8944271909999159"
      ]
     },
     "execution_count": 14,
     "metadata": {},
     "output_type": "execute_result"
    }
   ],
   "source": [
    "shopping_cart[\"item_quantity\"].std()"
   ]
  },
  {
   "cell_type": "markdown",
   "id": "79a54e72",
   "metadata": {},
   "source": [
    "#### Task 7\n",
    "##### Perform the following on the `shopping_cart` DataFrame:\n",
    "- Extract column `item_price`\n",
    "- Extract columns `item_name` and`item_quantity`\n",
    "- Extract the 3rd row\n",
    "#### Result:\n"
   ]
  },
  {
   "cell_type": "code",
   "execution_count": 3,
   "id": "550feb0d",
   "metadata": {},
   "outputs": [
    {
     "name": "stdout",
     "output_type": "stream",
     "text": [
      "0    2.50\n",
      "1    3.99\n",
      "2    1.95\n",
      "3    5.99\n",
      "4    1.29\n",
      "Name: item_price, dtype: float64\n"
     ]
    }
   ],
   "source": [
    "item_price = shopping_cart.item_price\n",
    "print(item_price)"
   ]
  },
  {
   "cell_type": "code",
   "execution_count": 4,
   "id": "77512cd7",
   "metadata": {},
   "outputs": [
    {
     "name": "stdout",
     "output_type": "stream",
     "text": [
      "  item_name  item_price  item_quantity\n",
      "0      milk        2.50              1\n",
      "1      eggs        3.99              1\n",
      "2   peppers        1.95              2\n",
      "3    cheese        5.99              1\n",
      "4  tomatoes        1.29              3\n"
     ]
    }
   ],
   "source": [
    "print(shopping_cart)"
   ]
  },
  {
   "cell_type": "code",
   "execution_count": 5,
   "id": "ebabcb12",
   "metadata": {},
   "outputs": [
    {
     "data": {
      "text/plain": [
       "(0        milk\n",
       " 1        eggs\n",
       " 2     peppers\n",
       " 3      cheese\n",
       " 4    tomatoes\n",
       " Name: item_name, dtype: object,\n",
       " 0    1\n",
       " 1    1\n",
       " 2    2\n",
       " 3    1\n",
       " 4    3\n",
       " Name: item_quantity, dtype: int64)"
      ]
     },
     "execution_count": 5,
     "metadata": {},
     "output_type": "execute_result"
    }
   ],
   "source": [
    "item_name = shopping_cart.item_name\n",
    "item_quantity = shopping_cart.item_quantity\n",
    "item_name, item_quantity\n"
   ]
  },
  {
   "cell_type": "code",
   "execution_count": 6,
   "id": "f7edff2c",
   "metadata": {},
   "outputs": [],
   "source": [
    "third_row = shopping_cart.iloc[2]"
   ]
  },
  {
   "cell_type": "code",
   "execution_count": 7,
   "id": "f1d82536",
   "metadata": {},
   "outputs": [
    {
     "data": {
      "text/plain": [
       "item_name        peppers\n",
       "item_price          1.95\n",
       "item_quantity          2\n",
       "Name: 2, dtype: object"
      ]
     },
     "execution_count": 7,
     "metadata": {},
     "output_type": "execute_result"
    }
   ],
   "source": [
    "third_row"
   ]
  },
  {
   "cell_type": "markdown",
   "id": "0ea94cf6",
   "metadata": {},
   "source": [
    "#### Task 8\n",
    "##### Set the index of `shopping_cart` DataFrame to `item_name`. Print the updated DataFrame.\n",
    "##### Print just the index of the `shopping_cart` DataFrame.\n",
    "##### Look up the row of the `shopping_cart` by using the index value 'eggs'.\n",
    "##### Reset index of the `shopping_cart`. Print the updated DataFrame.\n",
    "#### Result:\n"
   ]
  },
  {
   "cell_type": "code",
   "execution_count": 9,
   "id": "bac8ec31",
   "metadata": {},
   "outputs": [
    {
     "data": {
      "text/html": [
       "<div>\n",
       "<style scoped>\n",
       "    .dataframe tbody tr th:only-of-type {\n",
       "        vertical-align: middle;\n",
       "    }\n",
       "\n",
       "    .dataframe tbody tr th {\n",
       "        vertical-align: top;\n",
       "    }\n",
       "\n",
       "    .dataframe thead th {\n",
       "        text-align: right;\n",
       "    }\n",
       "</style>\n",
       "<table border=\"1\" class=\"dataframe\">\n",
       "  <thead>\n",
       "    <tr style=\"text-align: right;\">\n",
       "      <th></th>\n",
       "      <th>item_price</th>\n",
       "      <th>item_quantity</th>\n",
       "    </tr>\n",
       "    <tr>\n",
       "      <th>item_name</th>\n",
       "      <th></th>\n",
       "      <th></th>\n",
       "    </tr>\n",
       "  </thead>\n",
       "  <tbody>\n",
       "    <tr>\n",
       "      <th>milk</th>\n",
       "      <td>2.50</td>\n",
       "      <td>1</td>\n",
       "    </tr>\n",
       "    <tr>\n",
       "      <th>eggs</th>\n",
       "      <td>3.99</td>\n",
       "      <td>1</td>\n",
       "    </tr>\n",
       "    <tr>\n",
       "      <th>peppers</th>\n",
       "      <td>1.95</td>\n",
       "      <td>2</td>\n",
       "    </tr>\n",
       "    <tr>\n",
       "      <th>cheese</th>\n",
       "      <td>5.99</td>\n",
       "      <td>1</td>\n",
       "    </tr>\n",
       "    <tr>\n",
       "      <th>tomatoes</th>\n",
       "      <td>1.29</td>\n",
       "      <td>3</td>\n",
       "    </tr>\n",
       "  </tbody>\n",
       "</table>\n",
       "</div>"
      ],
      "text/plain": [
       "           item_price  item_quantity\n",
       "item_name                           \n",
       "milk             2.50              1\n",
       "eggs             3.99              1\n",
       "peppers          1.95              2\n",
       "cheese           5.99              1\n",
       "tomatoes         1.29              3"
      ]
     },
     "execution_count": 9,
     "metadata": {},
     "output_type": "execute_result"
    }
   ],
   "source": [
    "shopping_cart.set_index('item_name', inplace = True)\n",
    "shopping_cart"
   ]
  },
  {
   "cell_type": "code",
   "execution_count": 10,
   "id": "0a60c2a2",
   "metadata": {},
   "outputs": [
    {
     "data": {
      "text/plain": [
       "Index(['milk', 'eggs', 'peppers', 'cheese', 'tomatoes'], dtype='object', name='item_name')"
      ]
     },
     "execution_count": 10,
     "metadata": {},
     "output_type": "execute_result"
    }
   ],
   "source": [
    "shopping_cart.index"
   ]
  },
  {
   "cell_type": "code",
   "execution_count": 11,
   "id": "9344e0cf",
   "metadata": {},
   "outputs": [
    {
     "data": {
      "text/plain": [
       "item_price       3.99\n",
       "item_quantity    1.00\n",
       "Name: eggs, dtype: float64"
      ]
     },
     "execution_count": 11,
     "metadata": {},
     "output_type": "execute_result"
    }
   ],
   "source": [
    "shopping_cart.loc['eggs']"
   ]
  },
  {
   "cell_type": "code",
   "execution_count": 12,
   "id": "1d3ec9e1",
   "metadata": {},
   "outputs": [
    {
     "data": {
      "text/html": [
       "<div>\n",
       "<style scoped>\n",
       "    .dataframe tbody tr th:only-of-type {\n",
       "        vertical-align: middle;\n",
       "    }\n",
       "\n",
       "    .dataframe tbody tr th {\n",
       "        vertical-align: top;\n",
       "    }\n",
       "\n",
       "    .dataframe thead th {\n",
       "        text-align: right;\n",
       "    }\n",
       "</style>\n",
       "<table border=\"1\" class=\"dataframe\">\n",
       "  <thead>\n",
       "    <tr style=\"text-align: right;\">\n",
       "      <th></th>\n",
       "      <th>item_name</th>\n",
       "      <th>item_price</th>\n",
       "      <th>item_quantity</th>\n",
       "    </tr>\n",
       "  </thead>\n",
       "  <tbody>\n",
       "    <tr>\n",
       "      <th>0</th>\n",
       "      <td>milk</td>\n",
       "      <td>2.50</td>\n",
       "      <td>1</td>\n",
       "    </tr>\n",
       "    <tr>\n",
       "      <th>1</th>\n",
       "      <td>eggs</td>\n",
       "      <td>3.99</td>\n",
       "      <td>1</td>\n",
       "    </tr>\n",
       "    <tr>\n",
       "      <th>2</th>\n",
       "      <td>peppers</td>\n",
       "      <td>1.95</td>\n",
       "      <td>2</td>\n",
       "    </tr>\n",
       "    <tr>\n",
       "      <th>3</th>\n",
       "      <td>cheese</td>\n",
       "      <td>5.99</td>\n",
       "      <td>1</td>\n",
       "    </tr>\n",
       "    <tr>\n",
       "      <th>4</th>\n",
       "      <td>tomatoes</td>\n",
       "      <td>1.29</td>\n",
       "      <td>3</td>\n",
       "    </tr>\n",
       "  </tbody>\n",
       "</table>\n",
       "</div>"
      ],
      "text/plain": [
       "  item_name  item_price  item_quantity\n",
       "0      milk        2.50              1\n",
       "1      eggs        3.99              1\n",
       "2   peppers        1.95              2\n",
       "3    cheese        5.99              1\n",
       "4  tomatoes        1.29              3"
      ]
     },
     "execution_count": 12,
     "metadata": {},
     "output_type": "execute_result"
    }
   ],
   "source": [
    "shopping_cart.reset_index(inplace = True)\n",
    "shopping_cart"
   ]
  },
  {
   "cell_type": "markdown",
   "id": "68eb9e6f",
   "metadata": {},
   "source": [
    "#### Please refer to module 3 of DataWranglingInPython - DataWranglingWithPandas for Tasks 9-12\n",
    "#### Task 9\n",
    "##### Read in 'heart_failure_clinical_records_dataset.csv' into a variable called `ex_df` using Pandas.\n",
    "##### Print the first 20 rows of the DataFrame.\n",
    "#### Result:\n"
   ]
  },
  {
   "cell_type": "code",
   "execution_count": 1,
   "id": "e274511e",
   "metadata": {},
   "outputs": [
    {
     "name": "stdout",
     "output_type": "stream",
     "text": [
      "/workspaces/Data-Wrangling-with-Python\n",
      "/workspaces/Data-Wrangling-with-Python/IntermediateDataWrangling/data\n"
     ]
    }
   ],
   "source": [
    "from pathlib import Path\n",
    "import pandas as pd\n",
    "import numpy as np\n",
    "# Set 'main_dir' to location of the project folder\n",
    "home_dir = Path(\".\").resolve()\n",
    "main_dir = home_dir.parent.parent\n",
    "print(main_dir)\n",
    "data_dir = str(main_dir) + \"/IntermediateDataWrangling/data\"\n",
    "print(data_dir)\n",
    "ex_df = pd.read_csv(str(data_dir)+'/'+ 'heart_failure_clinical_records_dataset.csv')\n",
    "# ex_df = pd.read_csv(\"IntermediateDataWrangling/data/heart_failure_clinical_records_dataset.csv\")"
   ]
  },
  {
   "cell_type": "code",
   "execution_count": 26,
   "id": "0d6deddd",
   "metadata": {},
   "outputs": [
    {
     "data": {
      "text/html": [
       "<div>\n",
       "<style scoped>\n",
       "    .dataframe tbody tr th:only-of-type {\n",
       "        vertical-align: middle;\n",
       "    }\n",
       "\n",
       "    .dataframe tbody tr th {\n",
       "        vertical-align: top;\n",
       "    }\n",
       "\n",
       "    .dataframe thead th {\n",
       "        text-align: right;\n",
       "    }\n",
       "</style>\n",
       "<table border=\"1\" class=\"dataframe\">\n",
       "  <thead>\n",
       "    <tr style=\"text-align: right;\">\n",
       "      <th></th>\n",
       "      <th>age</th>\n",
       "      <th>anaemia</th>\n",
       "      <th>creatinine_phosphokinase</th>\n",
       "      <th>diabetes</th>\n",
       "      <th>ejection_fraction</th>\n",
       "      <th>high_blood_pressure</th>\n",
       "      <th>platelets</th>\n",
       "      <th>serum_creatinine</th>\n",
       "      <th>serum_sodium</th>\n",
       "      <th>sex</th>\n",
       "      <th>smoking</th>\n",
       "      <th>time</th>\n",
       "      <th>death_event</th>\n",
       "      <th>id</th>\n",
       "    </tr>\n",
       "  </thead>\n",
       "  <tbody>\n",
       "    <tr>\n",
       "      <th>0</th>\n",
       "      <td>75.0</td>\n",
       "      <td>0</td>\n",
       "      <td>582</td>\n",
       "      <td>0</td>\n",
       "      <td>20</td>\n",
       "      <td>1</td>\n",
       "      <td>265000.00</td>\n",
       "      <td>1.9</td>\n",
       "      <td>130</td>\n",
       "      <td>1</td>\n",
       "      <td>0</td>\n",
       "      <td>4</td>\n",
       "      <td>1</td>\n",
       "      <td>1</td>\n",
       "    </tr>\n",
       "    <tr>\n",
       "      <th>1</th>\n",
       "      <td>55.0</td>\n",
       "      <td>0</td>\n",
       "      <td>7861</td>\n",
       "      <td>0</td>\n",
       "      <td>38</td>\n",
       "      <td>0</td>\n",
       "      <td>263358.03</td>\n",
       "      <td>1.1</td>\n",
       "      <td>136</td>\n",
       "      <td>1</td>\n",
       "      <td>0</td>\n",
       "      <td>6</td>\n",
       "      <td>1</td>\n",
       "      <td>2</td>\n",
       "    </tr>\n",
       "    <tr>\n",
       "      <th>2</th>\n",
       "      <td>65.0</td>\n",
       "      <td>0</td>\n",
       "      <td>146</td>\n",
       "      <td>0</td>\n",
       "      <td>20</td>\n",
       "      <td>0</td>\n",
       "      <td>162000.00</td>\n",
       "      <td>1.3</td>\n",
       "      <td>129</td>\n",
       "      <td>1</td>\n",
       "      <td>1</td>\n",
       "      <td>7</td>\n",
       "      <td>1</td>\n",
       "      <td>3</td>\n",
       "    </tr>\n",
       "    <tr>\n",
       "      <th>3</th>\n",
       "      <td>50.0</td>\n",
       "      <td>1</td>\n",
       "      <td>111</td>\n",
       "      <td>0</td>\n",
       "      <td>20</td>\n",
       "      <td>0</td>\n",
       "      <td>210000.00</td>\n",
       "      <td>1.9</td>\n",
       "      <td>137</td>\n",
       "      <td>1</td>\n",
       "      <td>0</td>\n",
       "      <td>7</td>\n",
       "      <td>1</td>\n",
       "      <td>4</td>\n",
       "    </tr>\n",
       "    <tr>\n",
       "      <th>4</th>\n",
       "      <td>65.0</td>\n",
       "      <td>1</td>\n",
       "      <td>160</td>\n",
       "      <td>1</td>\n",
       "      <td>20</td>\n",
       "      <td>0</td>\n",
       "      <td>327000.00</td>\n",
       "      <td>2.7</td>\n",
       "      <td>116</td>\n",
       "      <td>0</td>\n",
       "      <td>0</td>\n",
       "      <td>8</td>\n",
       "      <td>1</td>\n",
       "      <td>5</td>\n",
       "    </tr>\n",
       "    <tr>\n",
       "      <th>5</th>\n",
       "      <td>90.0</td>\n",
       "      <td>1</td>\n",
       "      <td>47</td>\n",
       "      <td>0</td>\n",
       "      <td>40</td>\n",
       "      <td>1</td>\n",
       "      <td>204000.00</td>\n",
       "      <td>2.1</td>\n",
       "      <td>132</td>\n",
       "      <td>1</td>\n",
       "      <td>1</td>\n",
       "      <td>8</td>\n",
       "      <td>1</td>\n",
       "      <td>6</td>\n",
       "    </tr>\n",
       "    <tr>\n",
       "      <th>6</th>\n",
       "      <td>75.0</td>\n",
       "      <td>1</td>\n",
       "      <td>246</td>\n",
       "      <td>0</td>\n",
       "      <td>15</td>\n",
       "      <td>0</td>\n",
       "      <td>127000.00</td>\n",
       "      <td>1.2</td>\n",
       "      <td>137</td>\n",
       "      <td>1</td>\n",
       "      <td>0</td>\n",
       "      <td>10</td>\n",
       "      <td>1</td>\n",
       "      <td>7</td>\n",
       "    </tr>\n",
       "    <tr>\n",
       "      <th>7</th>\n",
       "      <td>60.0</td>\n",
       "      <td>1</td>\n",
       "      <td>315</td>\n",
       "      <td>1</td>\n",
       "      <td>60</td>\n",
       "      <td>0</td>\n",
       "      <td>454000.00</td>\n",
       "      <td>1.1</td>\n",
       "      <td>131</td>\n",
       "      <td>1</td>\n",
       "      <td>1</td>\n",
       "      <td>10</td>\n",
       "      <td>1</td>\n",
       "      <td>8</td>\n",
       "    </tr>\n",
       "    <tr>\n",
       "      <th>8</th>\n",
       "      <td>65.0</td>\n",
       "      <td>0</td>\n",
       "      <td>157</td>\n",
       "      <td>0</td>\n",
       "      <td>65</td>\n",
       "      <td>0</td>\n",
       "      <td>263358.03</td>\n",
       "      <td>1.5</td>\n",
       "      <td>138</td>\n",
       "      <td>0</td>\n",
       "      <td>0</td>\n",
       "      <td>10</td>\n",
       "      <td>1</td>\n",
       "      <td>9</td>\n",
       "    </tr>\n",
       "    <tr>\n",
       "      <th>9</th>\n",
       "      <td>80.0</td>\n",
       "      <td>1</td>\n",
       "      <td>123</td>\n",
       "      <td>0</td>\n",
       "      <td>35</td>\n",
       "      <td>1</td>\n",
       "      <td>388000.00</td>\n",
       "      <td>9.4</td>\n",
       "      <td>133</td>\n",
       "      <td>1</td>\n",
       "      <td>1</td>\n",
       "      <td>10</td>\n",
       "      <td>1</td>\n",
       "      <td>10</td>\n",
       "    </tr>\n",
       "    <tr>\n",
       "      <th>10</th>\n",
       "      <td>75.0</td>\n",
       "      <td>1</td>\n",
       "      <td>81</td>\n",
       "      <td>0</td>\n",
       "      <td>38</td>\n",
       "      <td>1</td>\n",
       "      <td>368000.00</td>\n",
       "      <td>4.0</td>\n",
       "      <td>131</td>\n",
       "      <td>1</td>\n",
       "      <td>1</td>\n",
       "      <td>10</td>\n",
       "      <td>1</td>\n",
       "      <td>11</td>\n",
       "    </tr>\n",
       "    <tr>\n",
       "      <th>11</th>\n",
       "      <td>62.0</td>\n",
       "      <td>0</td>\n",
       "      <td>231</td>\n",
       "      <td>0</td>\n",
       "      <td>25</td>\n",
       "      <td>1</td>\n",
       "      <td>253000.00</td>\n",
       "      <td>0.9</td>\n",
       "      <td>140</td>\n",
       "      <td>1</td>\n",
       "      <td>1</td>\n",
       "      <td>10</td>\n",
       "      <td>1</td>\n",
       "      <td>12</td>\n",
       "    </tr>\n",
       "    <tr>\n",
       "      <th>12</th>\n",
       "      <td>45.0</td>\n",
       "      <td>1</td>\n",
       "      <td>981</td>\n",
       "      <td>0</td>\n",
       "      <td>30</td>\n",
       "      <td>0</td>\n",
       "      <td>136000.00</td>\n",
       "      <td>1.1</td>\n",
       "      <td>137</td>\n",
       "      <td>1</td>\n",
       "      <td>0</td>\n",
       "      <td>11</td>\n",
       "      <td>1</td>\n",
       "      <td>13</td>\n",
       "    </tr>\n",
       "    <tr>\n",
       "      <th>13</th>\n",
       "      <td>50.0</td>\n",
       "      <td>1</td>\n",
       "      <td>168</td>\n",
       "      <td>0</td>\n",
       "      <td>38</td>\n",
       "      <td>1</td>\n",
       "      <td>276000.00</td>\n",
       "      <td>1.1</td>\n",
       "      <td>137</td>\n",
       "      <td>1</td>\n",
       "      <td>0</td>\n",
       "      <td>11</td>\n",
       "      <td>1</td>\n",
       "      <td>14</td>\n",
       "    </tr>\n",
       "    <tr>\n",
       "      <th>14</th>\n",
       "      <td>49.0</td>\n",
       "      <td>1</td>\n",
       "      <td>80</td>\n",
       "      <td>0</td>\n",
       "      <td>30</td>\n",
       "      <td>1</td>\n",
       "      <td>427000.00</td>\n",
       "      <td>1.0</td>\n",
       "      <td>138</td>\n",
       "      <td>0</td>\n",
       "      <td>0</td>\n",
       "      <td>12</td>\n",
       "      <td>0</td>\n",
       "      <td>15</td>\n",
       "    </tr>\n",
       "    <tr>\n",
       "      <th>15</th>\n",
       "      <td>82.0</td>\n",
       "      <td>1</td>\n",
       "      <td>379</td>\n",
       "      <td>0</td>\n",
       "      <td>50</td>\n",
       "      <td>0</td>\n",
       "      <td>47000.00</td>\n",
       "      <td>1.3</td>\n",
       "      <td>136</td>\n",
       "      <td>1</td>\n",
       "      <td>0</td>\n",
       "      <td>13</td>\n",
       "      <td>1</td>\n",
       "      <td>16</td>\n",
       "    </tr>\n",
       "    <tr>\n",
       "      <th>16</th>\n",
       "      <td>87.0</td>\n",
       "      <td>1</td>\n",
       "      <td>149</td>\n",
       "      <td>0</td>\n",
       "      <td>38</td>\n",
       "      <td>0</td>\n",
       "      <td>262000.00</td>\n",
       "      <td>0.9</td>\n",
       "      <td>140</td>\n",
       "      <td>1</td>\n",
       "      <td>0</td>\n",
       "      <td>14</td>\n",
       "      <td>1</td>\n",
       "      <td>17</td>\n",
       "    </tr>\n",
       "    <tr>\n",
       "      <th>17</th>\n",
       "      <td>45.0</td>\n",
       "      <td>0</td>\n",
       "      <td>582</td>\n",
       "      <td>0</td>\n",
       "      <td>14</td>\n",
       "      <td>0</td>\n",
       "      <td>166000.00</td>\n",
       "      <td>0.8</td>\n",
       "      <td>127</td>\n",
       "      <td>1</td>\n",
       "      <td>0</td>\n",
       "      <td>14</td>\n",
       "      <td>1</td>\n",
       "      <td>18</td>\n",
       "    </tr>\n",
       "    <tr>\n",
       "      <th>18</th>\n",
       "      <td>70.0</td>\n",
       "      <td>1</td>\n",
       "      <td>125</td>\n",
       "      <td>0</td>\n",
       "      <td>25</td>\n",
       "      <td>1</td>\n",
       "      <td>237000.00</td>\n",
       "      <td>1.0</td>\n",
       "      <td>140</td>\n",
       "      <td>0</td>\n",
       "      <td>0</td>\n",
       "      <td>15</td>\n",
       "      <td>1</td>\n",
       "      <td>19</td>\n",
       "    </tr>\n",
       "    <tr>\n",
       "      <th>19</th>\n",
       "      <td>48.0</td>\n",
       "      <td>1</td>\n",
       "      <td>582</td>\n",
       "      <td>1</td>\n",
       "      <td>55</td>\n",
       "      <td>0</td>\n",
       "      <td>87000.00</td>\n",
       "      <td>1.9</td>\n",
       "      <td>121</td>\n",
       "      <td>0</td>\n",
       "      <td>0</td>\n",
       "      <td>15</td>\n",
       "      <td>1</td>\n",
       "      <td>20</td>\n",
       "    </tr>\n",
       "  </tbody>\n",
       "</table>\n",
       "</div>"
      ],
      "text/plain": [
       "     age  anaemia  creatinine_phosphokinase  diabetes  ejection_fraction  \\\n",
       "0   75.0        0                       582         0                 20   \n",
       "1   55.0        0                      7861         0                 38   \n",
       "2   65.0        0                       146         0                 20   \n",
       "3   50.0        1                       111         0                 20   \n",
       "4   65.0        1                       160         1                 20   \n",
       "5   90.0        1                        47         0                 40   \n",
       "6   75.0        1                       246         0                 15   \n",
       "7   60.0        1                       315         1                 60   \n",
       "8   65.0        0                       157         0                 65   \n",
       "9   80.0        1                       123         0                 35   \n",
       "10  75.0        1                        81         0                 38   \n",
       "11  62.0        0                       231         0                 25   \n",
       "12  45.0        1                       981         0                 30   \n",
       "13  50.0        1                       168         0                 38   \n",
       "14  49.0        1                        80         0                 30   \n",
       "15  82.0        1                       379         0                 50   \n",
       "16  87.0        1                       149         0                 38   \n",
       "17  45.0        0                       582         0                 14   \n",
       "18  70.0        1                       125         0                 25   \n",
       "19  48.0        1                       582         1                 55   \n",
       "\n",
       "    high_blood_pressure  platelets  serum_creatinine  serum_sodium  sex  \\\n",
       "0                     1  265000.00               1.9           130    1   \n",
       "1                     0  263358.03               1.1           136    1   \n",
       "2                     0  162000.00               1.3           129    1   \n",
       "3                     0  210000.00               1.9           137    1   \n",
       "4                     0  327000.00               2.7           116    0   \n",
       "5                     1  204000.00               2.1           132    1   \n",
       "6                     0  127000.00               1.2           137    1   \n",
       "7                     0  454000.00               1.1           131    1   \n",
       "8                     0  263358.03               1.5           138    0   \n",
       "9                     1  388000.00               9.4           133    1   \n",
       "10                    1  368000.00               4.0           131    1   \n",
       "11                    1  253000.00               0.9           140    1   \n",
       "12                    0  136000.00               1.1           137    1   \n",
       "13                    1  276000.00               1.1           137    1   \n",
       "14                    1  427000.00               1.0           138    0   \n",
       "15                    0   47000.00               1.3           136    1   \n",
       "16                    0  262000.00               0.9           140    1   \n",
       "17                    0  166000.00               0.8           127    1   \n",
       "18                    1  237000.00               1.0           140    0   \n",
       "19                    0   87000.00               1.9           121    0   \n",
       "\n",
       "    smoking  time  death_event  id  \n",
       "0         0     4            1   1  \n",
       "1         0     6            1   2  \n",
       "2         1     7            1   3  \n",
       "3         0     7            1   4  \n",
       "4         0     8            1   5  \n",
       "5         1     8            1   6  \n",
       "6         0    10            1   7  \n",
       "7         1    10            1   8  \n",
       "8         0    10            1   9  \n",
       "9         1    10            1  10  \n",
       "10        1    10            1  11  \n",
       "11        1    10            1  12  \n",
       "12        0    11            1  13  \n",
       "13        0    11            1  14  \n",
       "14        0    12            0  15  \n",
       "15        0    13            1  16  \n",
       "16        0    14            1  17  \n",
       "17        0    14            1  18  \n",
       "18        0    15            1  19  \n",
       "19        0    15            1  20  "
      ]
     },
     "execution_count": 26,
     "metadata": {},
     "output_type": "execute_result"
    }
   ],
   "source": [
    "ex_df[:20]"
   ]
  },
  {
   "cell_type": "markdown",
   "id": "5b1b462e",
   "metadata": {},
   "source": [
    "#### Task 10\n",
    "##### Perform the following actions on `ex_df` object:\n",
    "- Check the type of the object\n",
    "- Get the shape of the object and save it to 2 variables and print both: `nrows` and `ncols`\n",
    "#### Result:\n"
   ]
  },
  {
   "cell_type": "code",
   "execution_count": 29,
   "id": "5cfb11cc",
   "metadata": {},
   "outputs": [
    {
     "data": {
      "text/plain": [
       "pandas.core.frame.DataFrame"
      ]
     },
     "execution_count": 29,
     "metadata": {},
     "output_type": "execute_result"
    }
   ],
   "source": [
    "type(ex_df) "
   ]
  },
  {
   "cell_type": "code",
   "execution_count": 30,
   "id": "62ccd8e0",
   "metadata": {},
   "outputs": [
    {
     "data": {
      "text/plain": [
       "(299, 14)"
      ]
     },
     "execution_count": 30,
     "metadata": {},
     "output_type": "execute_result"
    }
   ],
   "source": [
    "ex_df.shape"
   ]
  },
  {
   "cell_type": "code",
   "execution_count": 31,
   "id": "ad0827f7",
   "metadata": {},
   "outputs": [
    {
     "name": "stdout",
     "output_type": "stream",
     "text": [
      "299 14\n"
     ]
    }
   ],
   "source": [
    "nrows,ncols = ex_df.shape\n",
    "print(nrows,ncols)"
   ]
  },
  {
   "cell_type": "markdown",
   "id": "330345c6",
   "metadata": {},
   "source": [
    "#### Task 11\n",
    "##### Use the sample function to:\n",
    "- print 3 random rows in ex_df\n",
    "- print 0.1% random rows in \n",
    "#### Result:\n"
   ]
  },
  {
   "cell_type": "code",
   "execution_count": 32,
   "id": "6509f7d1",
   "metadata": {},
   "outputs": [
    {
     "data": {
      "text/html": [
       "<div>\n",
       "<style scoped>\n",
       "    .dataframe tbody tr th:only-of-type {\n",
       "        vertical-align: middle;\n",
       "    }\n",
       "\n",
       "    .dataframe tbody tr th {\n",
       "        vertical-align: top;\n",
       "    }\n",
       "\n",
       "    .dataframe thead th {\n",
       "        text-align: right;\n",
       "    }\n",
       "</style>\n",
       "<table border=\"1\" class=\"dataframe\">\n",
       "  <thead>\n",
       "    <tr style=\"text-align: right;\">\n",
       "      <th></th>\n",
       "      <th>age</th>\n",
       "      <th>anaemia</th>\n",
       "      <th>creatinine_phosphokinase</th>\n",
       "      <th>diabetes</th>\n",
       "      <th>ejection_fraction</th>\n",
       "      <th>high_blood_pressure</th>\n",
       "      <th>platelets</th>\n",
       "      <th>serum_creatinine</th>\n",
       "      <th>serum_sodium</th>\n",
       "      <th>sex</th>\n",
       "      <th>smoking</th>\n",
       "      <th>time</th>\n",
       "      <th>death_event</th>\n",
       "      <th>id</th>\n",
       "    </tr>\n",
       "  </thead>\n",
       "  <tbody>\n",
       "    <tr>\n",
       "      <th>234</th>\n",
       "      <td>53.0</td>\n",
       "      <td>1</td>\n",
       "      <td>582</td>\n",
       "      <td>0</td>\n",
       "      <td>45</td>\n",
       "      <td>0</td>\n",
       "      <td>305000.0</td>\n",
       "      <td>1.1</td>\n",
       "      <td>137</td>\n",
       "      <td>1</td>\n",
       "      <td>1</td>\n",
       "      <td>209</td>\n",
       "      <td>0</td>\n",
       "      <td>235</td>\n",
       "    </tr>\n",
       "    <tr>\n",
       "      <th>285</th>\n",
       "      <td>55.0</td>\n",
       "      <td>1</td>\n",
       "      <td>170</td>\n",
       "      <td>1</td>\n",
       "      <td>40</td>\n",
       "      <td>0</td>\n",
       "      <td>336000.0</td>\n",
       "      <td>1.2</td>\n",
       "      <td>135</td>\n",
       "      <td>1</td>\n",
       "      <td>0</td>\n",
       "      <td>250</td>\n",
       "      <td>0</td>\n",
       "      <td>286</td>\n",
       "    </tr>\n",
       "    <tr>\n",
       "      <th>207</th>\n",
       "      <td>85.0</td>\n",
       "      <td>0</td>\n",
       "      <td>212</td>\n",
       "      <td>0</td>\n",
       "      <td>38</td>\n",
       "      <td>0</td>\n",
       "      <td>186000.0</td>\n",
       "      <td>0.9</td>\n",
       "      <td>136</td>\n",
       "      <td>1</td>\n",
       "      <td>0</td>\n",
       "      <td>187</td>\n",
       "      <td>0</td>\n",
       "      <td>208</td>\n",
       "    </tr>\n",
       "  </tbody>\n",
       "</table>\n",
       "</div>"
      ],
      "text/plain": [
       "      age  anaemia  creatinine_phosphokinase  diabetes  ejection_fraction  \\\n",
       "234  53.0        1                       582         0                 45   \n",
       "285  55.0        1                       170         1                 40   \n",
       "207  85.0        0                       212         0                 38   \n",
       "\n",
       "     high_blood_pressure  platelets  serum_creatinine  serum_sodium  sex  \\\n",
       "234                    0   305000.0               1.1           137    1   \n",
       "285                    0   336000.0               1.2           135    1   \n",
       "207                    0   186000.0               0.9           136    1   \n",
       "\n",
       "     smoking  time  death_event   id  \n",
       "234        1   209            0  235  \n",
       "285        0   250            0  286  \n",
       "207        0   187            0  208  "
      ]
     },
     "execution_count": 32,
     "metadata": {},
     "output_type": "execute_result"
    }
   ],
   "source": [
    "ex_df.sample(3)"
   ]
  },
  {
   "cell_type": "code",
   "execution_count": 39,
   "id": "8e113484",
   "metadata": {},
   "outputs": [
    {
     "name": "stdout",
     "output_type": "stream",
     "text": [
      "Empty DataFrame\n",
      "Columns: [age, anaemia, creatinine_phosphokinase, diabetes, ejection_fraction, high_blood_pressure, platelets, serum_creatinine, serum_sodium, sex, smoking, time, death_event, id]\n",
      "Index: []\n"
     ]
    }
   ],
   "source": [
    "# len(ex_df)\n",
    "# ex_df.sample(int(0.001*len(ex_df)))\n",
    "print(ex_df.sample(frac=0.001))"
   ]
  },
  {
   "cell_type": "markdown",
   "id": "8c4f86f5",
   "metadata": {},
   "source": [
    "#### Task 12\n",
    "##### Inspect `ex_df` for the following information:\n",
    "- columns\n",
    "- data types\n",
    "- info\n",
    "- statistical summary (describe)\n",
    "#### Result:\n"
   ]
  },
  {
   "cell_type": "code",
   "execution_count": 3,
   "id": "1b91ad1a",
   "metadata": {},
   "outputs": [
    {
     "data": {
      "text/plain": [
       "Index(['age', 'anaemia', 'creatinine_phosphokinase', 'diabetes',\n",
       "       'ejection_fraction', 'high_blood_pressure', 'platelets',\n",
       "       'serum_creatinine', 'serum_sodium', 'sex', 'smoking', 'time',\n",
       "       'death_event', 'id'],\n",
       "      dtype='object')"
      ]
     },
     "execution_count": 3,
     "metadata": {},
     "output_type": "execute_result"
    }
   ],
   "source": [
    "ex_df.columns"
   ]
  },
  {
   "cell_type": "code",
   "execution_count": 4,
   "id": "a08f0cb4",
   "metadata": {},
   "outputs": [
    {
     "data": {
      "text/plain": [
       "age                         float64\n",
       "anaemia                       int64\n",
       "creatinine_phosphokinase      int64\n",
       "diabetes                      int64\n",
       "ejection_fraction             int64\n",
       "high_blood_pressure           int64\n",
       "platelets                   float64\n",
       "serum_creatinine            float64\n",
       "serum_sodium                  int64\n",
       "sex                           int64\n",
       "smoking                       int64\n",
       "time                          int64\n",
       "death_event                   int64\n",
       "id                            int64\n",
       "dtype: object"
      ]
     },
     "execution_count": 4,
     "metadata": {},
     "output_type": "execute_result"
    }
   ],
   "source": [
    "ex_df.dtypes"
   ]
  },
  {
   "cell_type": "code",
   "execution_count": 3,
   "id": "ceca11a3",
   "metadata": {},
   "outputs": [
    {
     "name": "stdout",
     "output_type": "stream",
     "text": [
      "<class 'pandas.core.frame.DataFrame'>\n",
      "RangeIndex: 299 entries, 0 to 298\n",
      "Data columns (total 14 columns):\n",
      " #   Column                    Non-Null Count  Dtype  \n",
      "---  ------                    --------------  -----  \n",
      " 0   age                       299 non-null    float64\n",
      " 1   anaemia                   299 non-null    int64  \n",
      " 2   creatinine_phosphokinase  299 non-null    int64  \n",
      " 3   diabetes                  299 non-null    int64  \n",
      " 4   ejection_fraction         299 non-null    int64  \n",
      " 5   high_blood_pressure       299 non-null    int64  \n",
      " 6   platelets                 299 non-null    float64\n",
      " 7   serum_creatinine          299 non-null    float64\n",
      " 8   serum_sodium              299 non-null    int64  \n",
      " 9   sex                       299 non-null    int64  \n",
      " 10  smoking                   299 non-null    int64  \n",
      " 11  time                      299 non-null    int64  \n",
      " 12  death_event               299 non-null    int64  \n",
      " 13  id                        299 non-null    int64  \n",
      "dtypes: float64(3), int64(11)\n",
      "memory usage: 32.8 KB\n"
     ]
    }
   ],
   "source": [
    "ex_df.info()"
   ]
  },
  {
   "cell_type": "code",
   "execution_count": 4,
   "id": "1dca7a06",
   "metadata": {},
   "outputs": [
    {
     "data": {
      "text/html": [
       "<div>\n",
       "<style scoped>\n",
       "    .dataframe tbody tr th:only-of-type {\n",
       "        vertical-align: middle;\n",
       "    }\n",
       "\n",
       "    .dataframe tbody tr th {\n",
       "        vertical-align: top;\n",
       "    }\n",
       "\n",
       "    .dataframe thead th {\n",
       "        text-align: right;\n",
       "    }\n",
       "</style>\n",
       "<table border=\"1\" class=\"dataframe\">\n",
       "  <thead>\n",
       "    <tr style=\"text-align: right;\">\n",
       "      <th></th>\n",
       "      <th>age</th>\n",
       "      <th>anaemia</th>\n",
       "      <th>creatinine_phosphokinase</th>\n",
       "      <th>diabetes</th>\n",
       "      <th>ejection_fraction</th>\n",
       "      <th>high_blood_pressure</th>\n",
       "      <th>platelets</th>\n",
       "      <th>serum_creatinine</th>\n",
       "      <th>serum_sodium</th>\n",
       "      <th>sex</th>\n",
       "      <th>smoking</th>\n",
       "      <th>time</th>\n",
       "      <th>death_event</th>\n",
       "      <th>id</th>\n",
       "    </tr>\n",
       "  </thead>\n",
       "  <tbody>\n",
       "    <tr>\n",
       "      <th>count</th>\n",
       "      <td>299.000000</td>\n",
       "      <td>299.000000</td>\n",
       "      <td>299.000000</td>\n",
       "      <td>299.000000</td>\n",
       "      <td>299.000000</td>\n",
       "      <td>299.000000</td>\n",
       "      <td>299.000000</td>\n",
       "      <td>299.00000</td>\n",
       "      <td>299.000000</td>\n",
       "      <td>299.000000</td>\n",
       "      <td>299.00000</td>\n",
       "      <td>299.000000</td>\n",
       "      <td>299.00000</td>\n",
       "      <td>299.000000</td>\n",
       "    </tr>\n",
       "    <tr>\n",
       "      <th>mean</th>\n",
       "      <td>60.833893</td>\n",
       "      <td>0.431438</td>\n",
       "      <td>581.839465</td>\n",
       "      <td>0.418060</td>\n",
       "      <td>38.083612</td>\n",
       "      <td>0.351171</td>\n",
       "      <td>263358.029264</td>\n",
       "      <td>1.39388</td>\n",
       "      <td>136.625418</td>\n",
       "      <td>0.648829</td>\n",
       "      <td>0.32107</td>\n",
       "      <td>130.260870</td>\n",
       "      <td>0.32107</td>\n",
       "      <td>150.000000</td>\n",
       "    </tr>\n",
       "    <tr>\n",
       "      <th>std</th>\n",
       "      <td>11.894809</td>\n",
       "      <td>0.496107</td>\n",
       "      <td>970.287881</td>\n",
       "      <td>0.494067</td>\n",
       "      <td>11.834841</td>\n",
       "      <td>0.478136</td>\n",
       "      <td>97804.236869</td>\n",
       "      <td>1.03451</td>\n",
       "      <td>4.412477</td>\n",
       "      <td>0.478136</td>\n",
       "      <td>0.46767</td>\n",
       "      <td>77.614208</td>\n",
       "      <td>0.46767</td>\n",
       "      <td>86.458082</td>\n",
       "    </tr>\n",
       "    <tr>\n",
       "      <th>min</th>\n",
       "      <td>40.000000</td>\n",
       "      <td>0.000000</td>\n",
       "      <td>23.000000</td>\n",
       "      <td>0.000000</td>\n",
       "      <td>14.000000</td>\n",
       "      <td>0.000000</td>\n",
       "      <td>25100.000000</td>\n",
       "      <td>0.50000</td>\n",
       "      <td>113.000000</td>\n",
       "      <td>0.000000</td>\n",
       "      <td>0.00000</td>\n",
       "      <td>4.000000</td>\n",
       "      <td>0.00000</td>\n",
       "      <td>1.000000</td>\n",
       "    </tr>\n",
       "    <tr>\n",
       "      <th>25%</th>\n",
       "      <td>51.000000</td>\n",
       "      <td>0.000000</td>\n",
       "      <td>116.500000</td>\n",
       "      <td>0.000000</td>\n",
       "      <td>30.000000</td>\n",
       "      <td>0.000000</td>\n",
       "      <td>212500.000000</td>\n",
       "      <td>0.90000</td>\n",
       "      <td>134.000000</td>\n",
       "      <td>0.000000</td>\n",
       "      <td>0.00000</td>\n",
       "      <td>73.000000</td>\n",
       "      <td>0.00000</td>\n",
       "      <td>75.500000</td>\n",
       "    </tr>\n",
       "    <tr>\n",
       "      <th>50%</th>\n",
       "      <td>60.000000</td>\n",
       "      <td>0.000000</td>\n",
       "      <td>250.000000</td>\n",
       "      <td>0.000000</td>\n",
       "      <td>38.000000</td>\n",
       "      <td>0.000000</td>\n",
       "      <td>262000.000000</td>\n",
       "      <td>1.10000</td>\n",
       "      <td>137.000000</td>\n",
       "      <td>1.000000</td>\n",
       "      <td>0.00000</td>\n",
       "      <td>115.000000</td>\n",
       "      <td>0.00000</td>\n",
       "      <td>150.000000</td>\n",
       "    </tr>\n",
       "    <tr>\n",
       "      <th>75%</th>\n",
       "      <td>70.000000</td>\n",
       "      <td>1.000000</td>\n",
       "      <td>582.000000</td>\n",
       "      <td>1.000000</td>\n",
       "      <td>45.000000</td>\n",
       "      <td>1.000000</td>\n",
       "      <td>303500.000000</td>\n",
       "      <td>1.40000</td>\n",
       "      <td>140.000000</td>\n",
       "      <td>1.000000</td>\n",
       "      <td>1.00000</td>\n",
       "      <td>203.000000</td>\n",
       "      <td>1.00000</td>\n",
       "      <td>224.500000</td>\n",
       "    </tr>\n",
       "    <tr>\n",
       "      <th>max</th>\n",
       "      <td>95.000000</td>\n",
       "      <td>1.000000</td>\n",
       "      <td>7861.000000</td>\n",
       "      <td>1.000000</td>\n",
       "      <td>80.000000</td>\n",
       "      <td>1.000000</td>\n",
       "      <td>850000.000000</td>\n",
       "      <td>9.40000</td>\n",
       "      <td>148.000000</td>\n",
       "      <td>1.000000</td>\n",
       "      <td>1.00000</td>\n",
       "      <td>285.000000</td>\n",
       "      <td>1.00000</td>\n",
       "      <td>299.000000</td>\n",
       "    </tr>\n",
       "  </tbody>\n",
       "</table>\n",
       "</div>"
      ],
      "text/plain": [
       "              age     anaemia  creatinine_phosphokinase    diabetes  \\\n",
       "count  299.000000  299.000000                299.000000  299.000000   \n",
       "mean    60.833893    0.431438                581.839465    0.418060   \n",
       "std     11.894809    0.496107                970.287881    0.494067   \n",
       "min     40.000000    0.000000                 23.000000    0.000000   \n",
       "25%     51.000000    0.000000                116.500000    0.000000   \n",
       "50%     60.000000    0.000000                250.000000    0.000000   \n",
       "75%     70.000000    1.000000                582.000000    1.000000   \n",
       "max     95.000000    1.000000               7861.000000    1.000000   \n",
       "\n",
       "       ejection_fraction  high_blood_pressure      platelets  \\\n",
       "count         299.000000           299.000000     299.000000   \n",
       "mean           38.083612             0.351171  263358.029264   \n",
       "std            11.834841             0.478136   97804.236869   \n",
       "min            14.000000             0.000000   25100.000000   \n",
       "25%            30.000000             0.000000  212500.000000   \n",
       "50%            38.000000             0.000000  262000.000000   \n",
       "75%            45.000000             1.000000  303500.000000   \n",
       "max            80.000000             1.000000  850000.000000   \n",
       "\n",
       "       serum_creatinine  serum_sodium         sex    smoking        time  \\\n",
       "count         299.00000    299.000000  299.000000  299.00000  299.000000   \n",
       "mean            1.39388    136.625418    0.648829    0.32107  130.260870   \n",
       "std             1.03451      4.412477    0.478136    0.46767   77.614208   \n",
       "min             0.50000    113.000000    0.000000    0.00000    4.000000   \n",
       "25%             0.90000    134.000000    0.000000    0.00000   73.000000   \n",
       "50%             1.10000    137.000000    1.000000    0.00000  115.000000   \n",
       "75%             1.40000    140.000000    1.000000    1.00000  203.000000   \n",
       "max             9.40000    148.000000    1.000000    1.00000  285.000000   \n",
       "\n",
       "       death_event          id  \n",
       "count    299.00000  299.000000  \n",
       "mean       0.32107  150.000000  \n",
       "std        0.46767   86.458082  \n",
       "min        0.00000    1.000000  \n",
       "25%        0.00000   75.500000  \n",
       "50%        0.00000  150.000000  \n",
       "75%        1.00000  224.500000  \n",
       "max        1.00000  299.000000  "
      ]
     },
     "execution_count": 4,
     "metadata": {},
     "output_type": "execute_result"
    }
   ],
   "source": [
    "ex_df.describe()"
   ]
  },
  {
   "cell_type": "markdown",
   "id": "ec3be277",
   "metadata": {},
   "source": [
    "#### Please refer to module 4 of DataWranglingInPython - DataWranglingWithPandas for Tasks 13-16\n",
    "#### Task 13\n",
    "##### Find the number of unique values present in the columns of the DataFrame, store the result in the dictionary format with the name `ex_col_dict` and print the dictionary.\n",
    "##### Identify and pick the column which has the least number of unique values from the dictionary.\n",
    "##### Save the column as `ex_grouping_col` and print it.\n",
    "#### Result:\n"
   ]
  },
  {
   "cell_type": "code",
   "execution_count": 5,
   "id": "d6ad1aa6",
   "metadata": {},
   "outputs": [
    {
     "data": {
      "text/plain": [
       "{'age': 47,\n",
       " 'anaemia': 2,\n",
       " 'creatinine_phosphokinase': 208,\n",
       " 'diabetes': 2,\n",
       " 'ejection_fraction': 17,\n",
       " 'high_blood_pressure': 2,\n",
       " 'platelets': 176,\n",
       " 'serum_creatinine': 40,\n",
       " 'serum_sodium': 27,\n",
       " 'sex': 2,\n",
       " 'smoking': 2,\n",
       " 'time': 148,\n",
       " 'death_event': 2,\n",
       " 'id': 299}"
      ]
     },
     "execution_count": 5,
     "metadata": {},
     "output_type": "execute_result"
    }
   ],
   "source": [
    "ex_col_dict = ex_df.nunique().to_dict()\n",
    "ex_col_dict\n",
    "# ex_df.nunique()"
   ]
  },
  {
   "cell_type": "code",
   "execution_count": 4,
   "id": "a8ed949b",
   "metadata": {},
   "outputs": [
    {
     "name": "stdout",
     "output_type": "stream",
     "text": [
      "Column with the least number of unique values: anaemia\n"
     ]
    }
   ],
   "source": [
    "unique_values_per_column = ex_df.nunique()\n",
    "\n",
    "# Find the column with the least number of unique values\n",
    "ex_grouping_col = unique_values_per_column.idxmin()\n",
    "\n",
    "print(\"Column with the least number of unique values:\", ex_grouping_col)\n"
   ]
  },
  {
   "cell_type": "code",
   "execution_count": 5,
   "id": "48db8a8a",
   "metadata": {},
   "outputs": [
    {
     "data": {
      "text/plain": [
       "'anaemia'"
      ]
     },
     "execution_count": 5,
     "metadata": {},
     "output_type": "execute_result"
    }
   ],
   "source": [
    "ex_grouping_col"
   ]
  },
  {
   "cell_type": "markdown",
   "id": "16dc070f",
   "metadata": {},
   "source": [
    "#### Task 14\n",
    "##### Group by the column `ex_grouping_col` and assign it to a DataFrame named `ex_grouped_df`.\n",
    "##### Use the summary functions to get the count of ID variable for all the variables you just grouped in `ex_grouped_df`.\n",
    "##### Assign the output to a DataFrame called `ex_df_ID` and print that DataFrame.\n",
    "#### Result:\n"
   ]
  },
  {
   "cell_type": "code",
   "execution_count": 6,
   "id": "8fe4fc46",
   "metadata": {},
   "outputs": [
    {
     "data": {
      "text/html": [
       "<div>\n",
       "<style scoped>\n",
       "    .dataframe tbody tr th:only-of-type {\n",
       "        vertical-align: middle;\n",
       "    }\n",
       "\n",
       "    .dataframe tbody tr th {\n",
       "        vertical-align: top;\n",
       "    }\n",
       "\n",
       "    .dataframe thead th {\n",
       "        text-align: right;\n",
       "    }\n",
       "</style>\n",
       "<table border=\"1\" class=\"dataframe\">\n",
       "  <thead>\n",
       "    <tr style=\"text-align: right;\">\n",
       "      <th></th>\n",
       "      <th>age</th>\n",
       "      <th>anaemia</th>\n",
       "      <th>creatinine_phosphokinase</th>\n",
       "      <th>diabetes</th>\n",
       "      <th>ejection_fraction</th>\n",
       "      <th>high_blood_pressure</th>\n",
       "      <th>platelets</th>\n",
       "      <th>serum_creatinine</th>\n",
       "      <th>serum_sodium</th>\n",
       "      <th>sex</th>\n",
       "      <th>smoking</th>\n",
       "      <th>time</th>\n",
       "      <th>death_event</th>\n",
       "      <th>id</th>\n",
       "    </tr>\n",
       "  </thead>\n",
       "  <tbody>\n",
       "    <tr>\n",
       "      <th>0</th>\n",
       "      <td>75.0</td>\n",
       "      <td>0</td>\n",
       "      <td>582</td>\n",
       "      <td>0</td>\n",
       "      <td>20</td>\n",
       "      <td>1</td>\n",
       "      <td>265000.00</td>\n",
       "      <td>1.9</td>\n",
       "      <td>130</td>\n",
       "      <td>1</td>\n",
       "      <td>0</td>\n",
       "      <td>4</td>\n",
       "      <td>1</td>\n",
       "      <td>1</td>\n",
       "    </tr>\n",
       "    <tr>\n",
       "      <th>1</th>\n",
       "      <td>55.0</td>\n",
       "      <td>0</td>\n",
       "      <td>7861</td>\n",
       "      <td>0</td>\n",
       "      <td>38</td>\n",
       "      <td>0</td>\n",
       "      <td>263358.03</td>\n",
       "      <td>1.1</td>\n",
       "      <td>136</td>\n",
       "      <td>1</td>\n",
       "      <td>0</td>\n",
       "      <td>6</td>\n",
       "      <td>1</td>\n",
       "      <td>2</td>\n",
       "    </tr>\n",
       "    <tr>\n",
       "      <th>2</th>\n",
       "      <td>65.0</td>\n",
       "      <td>0</td>\n",
       "      <td>146</td>\n",
       "      <td>0</td>\n",
       "      <td>20</td>\n",
       "      <td>0</td>\n",
       "      <td>162000.00</td>\n",
       "      <td>1.3</td>\n",
       "      <td>129</td>\n",
       "      <td>1</td>\n",
       "      <td>1</td>\n",
       "      <td>7</td>\n",
       "      <td>1</td>\n",
       "      <td>3</td>\n",
       "    </tr>\n",
       "    <tr>\n",
       "      <th>3</th>\n",
       "      <td>50.0</td>\n",
       "      <td>1</td>\n",
       "      <td>111</td>\n",
       "      <td>0</td>\n",
       "      <td>20</td>\n",
       "      <td>0</td>\n",
       "      <td>210000.00</td>\n",
       "      <td>1.9</td>\n",
       "      <td>137</td>\n",
       "      <td>1</td>\n",
       "      <td>0</td>\n",
       "      <td>7</td>\n",
       "      <td>1</td>\n",
       "      <td>4</td>\n",
       "    </tr>\n",
       "    <tr>\n",
       "      <th>4</th>\n",
       "      <td>65.0</td>\n",
       "      <td>1</td>\n",
       "      <td>160</td>\n",
       "      <td>1</td>\n",
       "      <td>20</td>\n",
       "      <td>0</td>\n",
       "      <td>327000.00</td>\n",
       "      <td>2.7</td>\n",
       "      <td>116</td>\n",
       "      <td>0</td>\n",
       "      <td>0</td>\n",
       "      <td>8</td>\n",
       "      <td>1</td>\n",
       "      <td>5</td>\n",
       "    </tr>\n",
       "    <tr>\n",
       "      <th>5</th>\n",
       "      <td>90.0</td>\n",
       "      <td>1</td>\n",
       "      <td>47</td>\n",
       "      <td>0</td>\n",
       "      <td>40</td>\n",
       "      <td>1</td>\n",
       "      <td>204000.00</td>\n",
       "      <td>2.1</td>\n",
       "      <td>132</td>\n",
       "      <td>1</td>\n",
       "      <td>1</td>\n",
       "      <td>8</td>\n",
       "      <td>1</td>\n",
       "      <td>6</td>\n",
       "    </tr>\n",
       "    <tr>\n",
       "      <th>6</th>\n",
       "      <td>75.0</td>\n",
       "      <td>1</td>\n",
       "      <td>246</td>\n",
       "      <td>0</td>\n",
       "      <td>15</td>\n",
       "      <td>0</td>\n",
       "      <td>127000.00</td>\n",
       "      <td>1.2</td>\n",
       "      <td>137</td>\n",
       "      <td>1</td>\n",
       "      <td>0</td>\n",
       "      <td>10</td>\n",
       "      <td>1</td>\n",
       "      <td>7</td>\n",
       "    </tr>\n",
       "    <tr>\n",
       "      <th>7</th>\n",
       "      <td>60.0</td>\n",
       "      <td>1</td>\n",
       "      <td>315</td>\n",
       "      <td>1</td>\n",
       "      <td>60</td>\n",
       "      <td>0</td>\n",
       "      <td>454000.00</td>\n",
       "      <td>1.1</td>\n",
       "      <td>131</td>\n",
       "      <td>1</td>\n",
       "      <td>1</td>\n",
       "      <td>10</td>\n",
       "      <td>1</td>\n",
       "      <td>8</td>\n",
       "    </tr>\n",
       "    <tr>\n",
       "      <th>8</th>\n",
       "      <td>65.0</td>\n",
       "      <td>0</td>\n",
       "      <td>157</td>\n",
       "      <td>0</td>\n",
       "      <td>65</td>\n",
       "      <td>0</td>\n",
       "      <td>263358.03</td>\n",
       "      <td>1.5</td>\n",
       "      <td>138</td>\n",
       "      <td>0</td>\n",
       "      <td>0</td>\n",
       "      <td>10</td>\n",
       "      <td>1</td>\n",
       "      <td>9</td>\n",
       "    </tr>\n",
       "    <tr>\n",
       "      <th>11</th>\n",
       "      <td>62.0</td>\n",
       "      <td>0</td>\n",
       "      <td>231</td>\n",
       "      <td>0</td>\n",
       "      <td>25</td>\n",
       "      <td>1</td>\n",
       "      <td>253000.00</td>\n",
       "      <td>0.9</td>\n",
       "      <td>140</td>\n",
       "      <td>1</td>\n",
       "      <td>1</td>\n",
       "      <td>10</td>\n",
       "      <td>1</td>\n",
       "      <td>12</td>\n",
       "    </tr>\n",
       "  </tbody>\n",
       "</table>\n",
       "</div>"
      ],
      "text/plain": [
       "     age  anaemia  creatinine_phosphokinase  diabetes  ejection_fraction  \\\n",
       "0   75.0        0                       582         0                 20   \n",
       "1   55.0        0                      7861         0                 38   \n",
       "2   65.0        0                       146         0                 20   \n",
       "3   50.0        1                       111         0                 20   \n",
       "4   65.0        1                       160         1                 20   \n",
       "5   90.0        1                        47         0                 40   \n",
       "6   75.0        1                       246         0                 15   \n",
       "7   60.0        1                       315         1                 60   \n",
       "8   65.0        0                       157         0                 65   \n",
       "11  62.0        0                       231         0                 25   \n",
       "\n",
       "    high_blood_pressure  platelets  serum_creatinine  serum_sodium  sex  \\\n",
       "0                     1  265000.00               1.9           130    1   \n",
       "1                     0  263358.03               1.1           136    1   \n",
       "2                     0  162000.00               1.3           129    1   \n",
       "3                     0  210000.00               1.9           137    1   \n",
       "4                     0  327000.00               2.7           116    0   \n",
       "5                     1  204000.00               2.1           132    1   \n",
       "6                     0  127000.00               1.2           137    1   \n",
       "7                     0  454000.00               1.1           131    1   \n",
       "8                     0  263358.03               1.5           138    0   \n",
       "11                    1  253000.00               0.9           140    1   \n",
       "\n",
       "    smoking  time  death_event  id  \n",
       "0         0     4            1   1  \n",
       "1         0     6            1   2  \n",
       "2         1     7            1   3  \n",
       "3         0     7            1   4  \n",
       "4         0     8            1   5  \n",
       "5         1     8            1   6  \n",
       "6         0    10            1   7  \n",
       "7         1    10            1   8  \n",
       "8         0    10            1   9  \n",
       "11        1    10            1  12  "
      ]
     },
     "execution_count": 6,
     "metadata": {},
     "output_type": "execute_result"
    }
   ],
   "source": [
    "ex_grouped_df = ex_df.groupby(ex_grouping_col)\n",
    "ex_grouped_df.head()"
   ]
  },
  {
   "cell_type": "code",
   "execution_count": 16,
   "id": "2cbd59a2",
   "metadata": {},
   "outputs": [
    {
     "data": {
      "text/plain": [
       "'anaemia'"
      ]
     },
     "execution_count": 16,
     "metadata": {},
     "output_type": "execute_result"
    }
   ],
   "source": [
    "ex_grouped_df.keys"
   ]
  },
  {
   "cell_type": "code",
   "execution_count": 7,
   "id": "589db0eb",
   "metadata": {},
   "outputs": [
    {
     "name": "stdout",
     "output_type": "stream",
     "text": [
      "          id\n",
      "anaemia     \n",
      "0        170\n",
      "1        129\n"
     ]
    }
   ],
   "source": [
    "ex_df_ID = ex_grouped_df.count()[['id']]\n",
    "print(ex_df_ID)"
   ]
  },
  {
   "cell_type": "markdown",
   "id": "1ee50adb",
   "metadata": {},
   "source": [
    "#### Task 15\n",
    "##### Sort the values by ID.\n",
    "#### Result:\n"
   ]
  },
  {
   "cell_type": "code",
   "execution_count": 8,
   "id": "1a0fc397",
   "metadata": {},
   "outputs": [],
   "source": [
    "sorted_df = ex_df_ID.sort_values(by='id')"
   ]
  },
  {
   "cell_type": "code",
   "execution_count": 9,
   "id": "8191779b",
   "metadata": {},
   "outputs": [
    {
     "data": {
      "text/html": [
       "<div>\n",
       "<style scoped>\n",
       "    .dataframe tbody tr th:only-of-type {\n",
       "        vertical-align: middle;\n",
       "    }\n",
       "\n",
       "    .dataframe tbody tr th {\n",
       "        vertical-align: top;\n",
       "    }\n",
       "\n",
       "    .dataframe thead th {\n",
       "        text-align: right;\n",
       "    }\n",
       "</style>\n",
       "<table border=\"1\" class=\"dataframe\">\n",
       "  <thead>\n",
       "    <tr style=\"text-align: right;\">\n",
       "      <th></th>\n",
       "      <th>id</th>\n",
       "    </tr>\n",
       "    <tr>\n",
       "      <th>anaemia</th>\n",
       "      <th></th>\n",
       "    </tr>\n",
       "  </thead>\n",
       "  <tbody>\n",
       "    <tr>\n",
       "      <th>1</th>\n",
       "      <td>129</td>\n",
       "    </tr>\n",
       "    <tr>\n",
       "      <th>0</th>\n",
       "      <td>170</td>\n",
       "    </tr>\n",
       "  </tbody>\n",
       "</table>\n",
       "</div>"
      ],
      "text/plain": [
       "          id\n",
       "anaemia     \n",
       "1        129\n",
       "0        170"
      ]
     },
     "execution_count": 9,
     "metadata": {},
     "output_type": "execute_result"
    }
   ],
   "source": [
    "sorted_df"
   ]
  },
  {
   "cell_type": "markdown",
   "id": "3b65bc88",
   "metadata": {},
   "source": [
    "#### Task 16\n",
    "##### In `ex_df_ID`, create a new Boolean column (containing values True or False) called `over10000_ID` .\n",
    "##### This indicates whether a row has a value for `ID` that is higher than 10000.\n",
    "#### Result:\n"
   ]
  },
  {
   "cell_type": "code",
   "execution_count": 10,
   "id": "e0b5bc3b",
   "metadata": {},
   "outputs": [],
   "source": [
    "ex_df_ID['over10000_ID'] = ex_df_ID['id'] > 10000"
   ]
  },
  {
   "cell_type": "code",
   "execution_count": 11,
   "id": "8de5aa44",
   "metadata": {},
   "outputs": [
    {
     "data": {
      "text/html": [
       "<div>\n",
       "<style scoped>\n",
       "    .dataframe tbody tr th:only-of-type {\n",
       "        vertical-align: middle;\n",
       "    }\n",
       "\n",
       "    .dataframe tbody tr th {\n",
       "        vertical-align: top;\n",
       "    }\n",
       "\n",
       "    .dataframe thead th {\n",
       "        text-align: right;\n",
       "    }\n",
       "</style>\n",
       "<table border=\"1\" class=\"dataframe\">\n",
       "  <thead>\n",
       "    <tr style=\"text-align: right;\">\n",
       "      <th></th>\n",
       "      <th>id</th>\n",
       "      <th>over10000_ID</th>\n",
       "    </tr>\n",
       "    <tr>\n",
       "      <th>anaemia</th>\n",
       "      <th></th>\n",
       "      <th></th>\n",
       "    </tr>\n",
       "  </thead>\n",
       "  <tbody>\n",
       "    <tr>\n",
       "      <th>0</th>\n",
       "      <td>170</td>\n",
       "      <td>False</td>\n",
       "    </tr>\n",
       "    <tr>\n",
       "      <th>1</th>\n",
       "      <td>129</td>\n",
       "      <td>False</td>\n",
       "    </tr>\n",
       "  </tbody>\n",
       "</table>\n",
       "</div>"
      ],
      "text/plain": [
       "          id  over10000_ID\n",
       "anaemia                   \n",
       "0        170         False\n",
       "1        129         False"
      ]
     },
     "execution_count": 11,
     "metadata": {},
     "output_type": "execute_result"
    }
   ],
   "source": [
    "ex_df_ID"
   ]
  },
  {
   "cell_type": "markdown",
   "id": "8c5bff46",
   "metadata": {},
   "source": [
    "#### Please refer to module 5 of DataWranglingInPython - DataWranglingWithPandas for Tasks 17-20\n",
    "#### Task 17\n",
    "##### Subset the DataFrame to have the following variables: ['creatinine_phosphokinase', 'age', 'serum_sodium', 'platelets', 'time', 'serum_creatinine', 'ejection_fraction', 'sex', 'death_event', 'diabetes', 'smoking', 'anaemia', 'high_blood_pressure']. Print head of `ex_df_subset`.\n",
    "##### Check if there are any NAs in the DataFrame and fill with mean if NAs are present.\n",
    "#### Result:\n"
   ]
  },
  {
   "cell_type": "code",
   "execution_count": null,
   "id": "cb907cf6",
   "metadata": {},
   "outputs": [],
   "source": []
  },
  {
   "cell_type": "markdown",
   "id": "8638483f",
   "metadata": {},
   "source": [
    "#### Task 18\n",
    "##### Group `ex_df` data by the variable `ex_grouping_col`. Save as `ex_grouped`.\n",
    "##### Then group and summarize the numeric variables: ['creatinine_phosphokinase', 'age', 'serum_sodium', 'platelets', 'time', 'serum_creatinine', 'ejection_fraction'] using their means.\n",
    "##### Save as `ex_grouped_mean` and print.\n",
    "##### Reset its index and print the result.\n",
    "#### Result:\n"
   ]
  },
  {
   "cell_type": "code",
   "execution_count": null,
   "id": "f7194437",
   "metadata": {},
   "outputs": [],
   "source": []
  },
  {
   "cell_type": "markdown",
   "id": "5f6de4d8",
   "metadata": {},
   "source": [
    "#### Task 19\n",
    "##### Notice the format of `ex_grouped_mean`. We wish to convert it from wide to long format.\n",
    "##### Use the `pd.melt()` function and convert it to long format. Save as `ex_grouped_mean_long` and print the result.\n",
    "#### Result:\n"
   ]
  },
  {
   "cell_type": "code",
   "execution_count": null,
   "id": "8febd7f4",
   "metadata": {},
   "outputs": [],
   "source": []
  },
  {
   "cell_type": "markdown",
   "id": "96d5236f",
   "metadata": {},
   "source": [
    "#### Task 20\n",
    "##### Now use the `pd.pivot()` function to convert `ex_grouped_mean_long` to wide format.\n",
    "##### Save as `ex_grouped_mean_wide` and print.\n",
    "#### Result:\n"
   ]
  },
  {
   "cell_type": "code",
   "execution_count": null,
   "id": "f52c9f7c",
   "metadata": {},
   "outputs": [],
   "source": []
  }
 ],
 "metadata": {
  "kernelspec": {
   "display_name": "Python 3",
   "language": "python",
   "name": "python3"
  },
  "language": "python",
  "language_info": {
   "codemirror_mode": {
    "name": "ipython",
    "version": 3
   },
   "file_extension": ".py",
   "mimetype": "text/x-python",
   "name": "python",
   "nbconvert_exporter": "python",
   "pygments_lexer": "ipython3",
   "version": "3.10.8"
  }
 },
 "nbformat": 4,
 "nbformat_minor": 5
}
